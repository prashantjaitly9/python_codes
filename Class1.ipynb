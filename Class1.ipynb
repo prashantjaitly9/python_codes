{
 "cells": [
  {
   "cell_type": "markdown",
   "id": "8dda3aac-0831-46a9-9dfa-aeefe78241e1",
   "metadata": {
    "id": "8dda3aac-0831-46a9-9dfa-aeefe78241e1"
   },
   "source": [
    "# Data Type"
   ]
  },
  {
   "cell_type": "code",
   "execution_count": null,
   "id": "8d0419a8-3503-4a2f-ae42-c35d39305fef",
   "metadata": {
    "colab": {
     "base_uri": "https://localhost:8080/"
    },
    "id": "8d0419a8-3503-4a2f-ae42-c35d39305fef",
    "outputId": "e14f4c47-0129-4109-eaff-1107efdb63a9"
   },
   "outputs": [
    {
     "name": "stdout",
     "output_type": "stream",
     "text": [
      "2\n",
      "<class 'int'>\n",
      "2\n",
      "<class 'str'>\n",
      "2.0\n",
      "<class 'float'>\n"
     ]
    }
   ],
   "source": [
    "print(2) #integer\n",
    "print(type(2))\n",
    "\n",
    "print(\"2\") #string\n",
    "print(type(\"2\"))\n",
    "\n",
    "print(2.) #float, so take some integer float put a decimal point\n",
    "print(type(2.0))"
   ]
  },
  {
   "cell_type": "markdown",
   "id": "8fe16387-4153-44e2-90b5-55480d4d6076",
   "metadata": {
    "id": "8fe16387-4153-44e2-90b5-55480d4d6076"
   },
   "source": [
    "# Operators\n",
    "## Integer Operators"
   ]
  },
  {
   "cell_type": "code",
   "execution_count": 1,
   "id": "3838636c-146b-4ce9-9afb-df803dc5ef12",
   "metadata": {
    "id": "3838636c-146b-4ce9-9afb-df803dc5ef12",
    "outputId": "c5ade304-b5eb-4ad7-fd5f-6e0bb09cc175"
   },
   "outputs": [
    {
     "name": "stdout",
     "output_type": "stream",
     "text": [
      "5 6 0.6666666666666666 3 1 8 -1\n",
      "59.0\n"
     ]
    }
   ],
   "source": [
    "x = 2+3 #addition\n",
    "y = 2*3 #multiplication\n",
    "z = 2/3 #division\n",
    "w = 11//3 #integer/floor division\n",
    "u = 5%2 #remainder\n",
    "p = 2**3 #exponent\n",
    "s = 2-3 #subtraction\n",
    "print(x,y,z,w,u,p,s)\n",
    "print(2*3+18**2/6-1+9*14//3%3)"
   ]
  },
  {
   "cell_type": "markdown",
   "id": "b81f522e-da1f-4a3d-9db5-aadf3ec8de27",
   "metadata": {
    "id": "b81f522e-da1f-4a3d-9db5-aadf3ec8de27"
   },
   "source": [
    "## Float Operations"
   ]
  },
  {
   "cell_type": "code",
   "execution_count": null,
   "id": "57b1e099-ee30-4b8f-b2fa-17a61da428c9",
   "metadata": {
    "id": "57b1e099-ee30-4b8f-b2fa-17a61da428c9",
    "outputId": "4c421813-0bdb-4e37-b593-7a58e2b62388"
   },
   "outputs": [
    {
     "name": "stdout",
     "output_type": "stream",
     "text": [
      "18.054000000000002 79.80452 1.3355756791720568 1.0 2.5939999999999994 68713964.80111146 2.5939999999999994\n"
     ]
    }
   ],
   "source": [
    "x = 10.324\n",
    "y = 7.73\n",
    "t = x+y #addition\n",
    "u = x*y #multiplication\n",
    "v = x/y #division\n",
    "w = x//y #floor division\n",
    "z = x%y  #remainder\n",
    "p = x**y #exponent\n",
    "s = x-y  #subtract\n",
    "print(t,u,v,w,z,p,s)\n"
   ]
  },
  {
   "cell_type": "markdown",
   "id": "2f9cb631-b6c4-4195-9811-68328f717a72",
   "metadata": {
    "id": "2f9cb631-b6c4-4195-9811-68328f717a72"
   },
   "source": [
    "## String (str) and operators\n",
    "     * int\n",
    "     + str"
   ]
  },
  {
   "cell_type": "code",
   "execution_count": null,
   "id": "c6ddaae9-fecd-4386-8c9d-0e2e40ac8e8f",
   "metadata": {
    "colab": {
     "base_uri": "https://localhost:8080/"
    },
    "id": "c6ddaae9-fecd-4386-8c9d-0e2e40ac8e8f",
    "outputId": "69e22364-cb9d-4e98-cacc-8d5c06604dd3"
   },
   "outputs": [
    {
     "name": "stdout",
     "output_type": "stream",
     "text": [
      "l\n",
      "1871899033776 140711857394056 140711857395680\n",
      "<class 'str'>\n"
     ]
    }
   ],
   "source": [
    "x = \"Hello\"\n",
    "print(x[2])\n",
    "print(id(x),id(x[0]),id(x[1]))\n",
    "print(type(x[2]))# no char type in python"
   ]
  },
  {
   "cell_type": "code",
   "execution_count": null,
   "id": "ba42abb4-4f73-4167-9846-cd0918813d83",
   "metadata": {
    "colab": {
     "base_uri": "https://localhost:8080/"
    },
    "id": "ba42abb4-4f73-4167-9846-cd0918813d83",
    "outputId": "03232fb1-6f0b-4f2b-a852-f965b2a68691"
   },
   "outputs": [
    {
     "name": "stdout",
     "output_type": "stream",
     "text": [
      "Hello Hello Hello \n",
      "Good Morning\n",
      "7\n"
     ]
    }
   ],
   "source": [
    "print(\"Hello \"*3)\n",
    "print(\"Good \"+\"Morning\")\n",
    "print(len(\"Morning\")) #len function calculates the length of the string"
   ]
  },
  {
   "cell_type": "code",
   "execution_count": null,
   "id": "9160a627-494a-44d5-b891-c41281c90d47",
   "metadata": {
    "id": "9160a627-494a-44d5-b891-c41281c90d47",
    "outputId": "f4d49706-9346-478f-cc48-7693e12ed102"
   },
   "outputs": [
    {
     "name": "stdout",
     "output_type": "stream",
     "text": [
      "5 140711857349544\n",
      "7 140711857349608\n",
      "Good Morning 1871906767408\n"
     ]
    }
   ],
   "source": [
    "# variable overwrites, if you reassign something to it\n",
    "a = 5\n",
    "print(a,id(a))\n",
    "a=7\n",
    "print(a,id(a))\n",
    "a = \"Good Morning\"\n",
    "print(a,id(a))"
   ]
  },
  {
   "cell_type": "markdown",
   "id": "KV5H5neQmbVh",
   "metadata": {
    "id": "KV5H5neQmbVh"
   },
   "source": [
    "# Variables\n",
    "  Genuine names of the variables"
   ]
  },
  {
   "cell_type": "code",
   "execution_count": null,
   "id": "B-tbpk6GmY6Z",
   "metadata": {
    "id": "B-tbpk6GmY6Z",
    "outputId": "53fd862d-0c57-4e27-deec-5aae6839f2ec"
   },
   "outputs": [
    {
     "name": "stdout",
     "output_type": "stream",
     "text": [
      "6 2 3\n",
      "140711857349576 140711857349448 140711857349480\n"
     ]
    }
   ],
   "source": [
    "# invalid names, as constrained by python\n",
    "#2acc #can't begin with number\n",
    "#current-balance #it can use only letters, numbers and underscore character\n",
    "#current balance #only one word without spaces\n",
    "#Total+$um #no special symbol is allowed\n",
    "#'h\n",
    "\n",
    "#valid names\n",
    "current_balance=0\n",
    "currentBalance=2\n",
    "CurrentBalance=3\n",
    "currentbalance=6\n",
    "print(currentbalance, currentBalance, CurrentBalance) #variable names are case senstive\n",
    "print(id(currentbalance),id(currentBalance),id(CurrentBalance))\n",
    "account4  =0\n",
    "_42=0\n",
    "Total_Sum=0\n",
    "hello=0"
   ]
  },
  {
   "cell_type": "code",
   "execution_count": null,
   "id": "376075c1-9a8d-45a3-a0fe-e5999b53d54f",
   "metadata": {
    "id": "376075c1-9a8d-45a3-a0fe-e5999b53d54f",
    "outputId": "816dbec3-fb1f-4f99-cd61-37c2bf0f4efb"
   },
   "outputs": [
    {
     "data": {
      "text/plain": [
       "'ajhsgefdhj \\nasdfhsdjfh\\nsajdfjh'"
      ]
     },
     "execution_count": 8,
     "metadata": {},
     "output_type": "execute_result"
    }
   ],
   "source": [
    "# comments<-- these are ignored, single line comment starts with hash\n",
    "'''asdmjnfb\n",
    "sdfjb\n",
    "shdfj''' # multiline comment, triple single quote is also a string\n",
    "\"\"\"ajhsgefdhj\n",
    "asdfhsdjfh\n",
    "sajdfjh\"\"\" #multiline comment, triple double quote is also a string"
   ]
  },
  {
   "cell_type": "markdown",
   "id": "YqkUwWRhoy7Z",
   "metadata": {
    "id": "YqkUwWRhoy7Z"
   },
   "source": [
    "## Home Work 001\n",
    "1.   Greet the user with his/her name\n",
    "2. Take the person's date of birth (year, month and day of the month, 3 separate inputs). And give his age\n",
    "3.   Tell the length of the name\n",
    "\n"
   ]
  },
  {
   "cell_type": "markdown",
   "id": "4cfb28a8-2183-4086-a937-da6e80838beb",
   "metadata": {
    "id": "4cfb28a8-2183-4086-a937-da6e80838beb"
   },
   "source": [
    "# Boolean Data Type"
   ]
  },
  {
   "cell_type": "code",
   "execution_count": null,
   "id": "21d1d8c3-b26c-4e60-b965-ec4a83e04319",
   "metadata": {
    "id": "21d1d8c3-b26c-4e60-b965-ec4a83e04319",
    "outputId": "1919eddb-35e0-42c1-fb7e-51e1f6bfc9ee"
   },
   "outputs": [
    {
     "name": "stdout",
     "output_type": "stream",
     "text": [
      "<class 'bool'> 1 <class 'bool'> 0\n",
      "True True False\n"
     ]
    }
   ],
   "source": [
    "print(type(True), int(True), type(False),int(False))\n",
    "print(bool(42),bool(-1),bool(0))"
   ]
  },
  {
   "cell_type": "markdown",
   "id": "11106d45-2973-4231-99e3-98e7da868333",
   "metadata": {
    "id": "11106d45-2973-4231-99e3-98e7da868333"
   },
   "source": [
    "## Logical Operators\n",
    "      1. ==  Equality operator, defined for all the objects\n",
    "      2. >   Defined on numbers only\n",
    "      3. <   Defined on numbers only\n",
    "      4. >=  greater than equal to\n",
    "      5. <=  less than equal to"
   ]
  },
  {
   "cell_type": "code",
   "execution_count": 4,
   "id": "3d080e1e-c361-44b2-8a1f-2af86fb9f484",
   "metadata": {
    "id": "3d080e1e-c361-44b2-8a1f-2af86fb9f484",
    "outputId": "22ccafaa-fa8f-4041-c2d2-db9474d3002e"
   },
   "outputs": [
    {
     "name": "stdout",
     "output_type": "stream",
     "text": [
      "\"5\" == 5 False\n",
      "\"Rajesh\" == \"rajesh\" False\n",
      "True\n",
      "True\n",
      "True\n",
      "True\n"
     ]
    }
   ],
   "source": [
    "print(\"\"\"\"5\" == 5\"\"\",\"5\" == 5)\n",
    "print('''\"Rajesh\" == \"rajesh\"''',\"Rajesh\" == \"rajesh\")\n",
    "print(\"\"\"Hello\"\"\" == 'Hello')\n",
    "print(\"sam\" >= \"sam\")\n",
    "print(5<=5.0)\n",
    "#print(\"ka\">3) # '>' not supported between instances of 'str' and 'int'\n",
    "print(\"apples\">\"apple\") #lexicograpically"
   ]
  },
  {
   "cell_type": "markdown",
   "id": "b6ccc179-217b-48df-9a3f-db894a594e1d",
   "metadata": {
    "id": "b6ccc179-217b-48df-9a3f-db894a594e1d"
   },
   "source": [
    "## Boolean Operators\n",
    "1. and\n",
    "2. or\n",
    "3. not"
   ]
  },
  {
   "cell_type": "code",
   "execution_count": null,
   "id": "43e80b7f-072b-48a7-9109-c75e67e2eebe",
   "metadata": {
    "id": "43e80b7f-072b-48a7-9109-c75e67e2eebe",
    "outputId": "7080294d-c262-4c6f-c5c8-32e78e9dfe0b"
   },
   "outputs": [
    {
     "name": "stdout",
     "output_type": "stream",
     "text": [
      "False\n",
      "False\n",
      "False\n"
     ]
    }
   ],
   "source": [
    "print(False and True)\n",
    "print(False or False)\n",
    "print(not True)"
   ]
  },
  {
   "cell_type": "markdown",
   "id": "0abdc5e3-6ef5-470c-b370-20812c01c136",
   "metadata": {
    "id": "0abdc5e3-6ef5-470c-b370-20812c01c136"
   },
   "source": [
    "### Operator Precedence\n",
    "```\n",
    "Airthematic Operator > Logical(Comparison) Operators > Boolean Operators\n",
    "**,*,/,%,//,+,-          >,<,>=,<=,==,!=               and, or, not\n",
    "```\n",
    "Follow the _[link](https://docs.python.org/3/reference/expressions.html#operator-precedence)_ for correct precedence from python documentation"
   ]
  },
  {
   "cell_type": "code",
   "execution_count": null,
   "id": "331bbd3f-c6eb-4dc5-99f1-0e5e71c93295",
   "metadata": {
    "id": "331bbd3f-c6eb-4dc5-99f1-0e5e71c93295",
    "outputId": "4e673011-0fc6-4c44-dc3b-d8f501bc0f39"
   },
   "outputs": [
    {
     "data": {
      "text/plain": [
       "True"
      ]
     },
     "execution_count": 12,
     "metadata": {},
     "output_type": "execute_result"
    }
   ],
   "source": [
    "2 + 2 == 4 and not 2 + 2 == 5 and 2 * 2 == 2 + 2\n"
   ]
  },
  {
   "cell_type": "markdown",
   "id": "b7f63334-8e75-40fd-bbab-e40f9013ab6d",
   "metadata": {
    "id": "b7f63334-8e75-40fd-bbab-e40f9013ab6d"
   },
   "source": [
    "# Flow Control\n",
    "## Conditional\n",
    "```\n",
    "if condition:\n",
    "    body    #executes only if the condition with *if* evaluates to True\n",
    "elif condition:\n",
    "    body    #executes only if the condition with *elif* evaluates to True\n",
    "else:\n",
    "    body    #executes only if the condition with all the *if* and *elif* evaluates to True\n",
    "```\n",
    "In order to inform Python which lines will execute under certain conditions, indentation is considered"
   ]
  },
  {
   "cell_type": "code",
   "execution_count": null,
   "id": "d49e5e8d-2f26-4ff0-b5ed-b05450ac8325",
   "metadata": {
    "id": "d49e5e8d-2f26-4ff0-b5ed-b05450ac8325",
    "outputId": "421ca6e0-af08-4c34-fdf1-b9242099645a"
   },
   "outputs": [
    {
     "name": "stdout",
     "output_type": "stream",
     "text": [
      "Enter a number 3\n"
     ]
    },
    {
     "name": "stdout",
     "output_type": "stream",
     "text": [
      "The entered number is odd.\n"
     ]
    }
   ],
   "source": [
    "x = int(input(\"Enter a number\"))\n",
    "if x%2==0:\n",
    "    print(\"The entered Number is even.\")\n",
    "else:\n",
    "    print(\"The entered number is odd.\")"
   ]
  },
  {
   "cell_type": "markdown",
   "id": "0d6e4fd8-9c04-4700-b9e1-2e0a68bcae1b",
   "metadata": {
    "id": "0d6e4fd8-9c04-4700-b9e1-2e0a68bcae1b"
   },
   "source": [
    "Conditions will consider some values in other data types equivalent to True and False. When used in conditions, 0, 0.0, and '' (the empty string) are considered False, while all other values are considered True. For example, look at the following program:"
   ]
  },
  {
   "cell_type": "code",
   "execution_count": null,
   "id": "f843002a-b2fa-4eee-88b1-d5829f3b3352",
   "metadata": {
    "id": "f843002a-b2fa-4eee-88b1-d5829f3b3352",
    "outputId": "ef0ba96f-7974-4944-f156-83ff3bae70a4"
   },
   "outputs": [
    {
     "name": "stdout",
     "output_type": "stream",
     "text": [
      "Hello 1\n",
      "Hello 'hello'\n"
     ]
    }
   ],
   "source": [
    "if 1:\n",
    "    print(\"Hello 1\")\n",
    "if 0: #Only 0 evaluates to False\n",
    "    print(\"Hello 0\")\n",
    "if \"\":\n",
    "    print(\"Hello ''\")\n",
    "if \"hello\":\n",
    "    print(\"Hello 'hello'\")"
   ]
  },
  {
   "cell_type": "markdown",
   "id": "436861cb-aab2-4ebf-85ed-85c0bc61bb58",
   "metadata": {
    "id": "436861cb-aab2-4ebf-85ed-85c0bc61bb58"
   },
   "source": [
    "## Homework 002\n",
    "    Make a Date Validator, i.e. if that date can exist or not\n",
    "    Make a converter from date format[29.05.2023] to date format [May 29, 2023]\n",
    "    "
   ]
  },
  {
   "cell_type": "markdown",
   "id": "8eae258a-caab-40e8-a3a4-1769911ccff3",
   "metadata": {
    "id": "8eae258a-caab-40e8-a3a4-1769911ccff3"
   },
   "source": [
    "## Iterative Constructs Loops\n",
    "### While Loops"
   ]
  },
  {
   "cell_type": "code",
   "execution_count": null,
   "id": "1adab2d4-e1e2-4668-9722-7c2cc044ee64",
   "metadata": {
    "id": "1adab2d4-e1e2-4668-9722-7c2cc044ee64",
    "outputId": "63bef341-ea74-4d07-80d5-686cfa3bfa08"
   },
   "outputs": [
    {
     "name": "stdout",
     "output_type": "stream",
     "text": [
      "2\n",
      "4\n",
      "8\n",
      "16\n",
      "32\n",
      "64\n",
      "128\n",
      "256\n",
      "512\n",
      "1024\n",
      "2048\n",
      "While Loop finished\n"
     ]
    }
   ],
   "source": [
    "i=1\n",
    "while(i <2024):\n",
    "    i*=2\n",
    "    print(i)\n",
    "print(\"While Loop finished\")"
   ]
  },
  {
   "cell_type": "code",
   "execution_count": null,
   "id": "f625f039-1099-444f-aef7-0cd10c1eab4a",
   "metadata": {
    "id": "f625f039-1099-444f-aef7-0cd10c1eab4a",
    "outputId": "68a701d5-763d-413e-aca7-9635af34fc1c"
   },
   "outputs": [
    {
     "name": "stdout",
     "output_type": "stream",
     "text": [
      "Hello\n",
      "Hello\n",
      "Hello\n",
      "Hello\n",
      "Hello\n"
     ]
    }
   ],
   "source": [
    "i=5\n",
    "while(i>0):\n",
    "    print(\"Hello\")\n",
    "    i-=1"
   ]
  },
  {
   "cell_type": "markdown",
   "id": "1d3b7b38-ccce-4c69-9f09-6bdfe6e5f6f0",
   "metadata": {
    "id": "1d3b7b38-ccce-4c69-9f09-6bdfe6e5f6f0"
   },
   "source": [
    "## Homework 003\n",
    "Ask for the password till it does not match"
   ]
  },
  {
   "cell_type": "markdown",
   "id": "54b9bef6-bcba-4007-a59f-51cf39234d52",
   "metadata": {
    "id": "54b9bef6-bcba-4007-a59f-51cf39234d52"
   },
   "source": [
    "## for loop"
   ]
  },
  {
   "cell_type": "code",
   "execution_count": null,
   "id": "eef90bd4-446a-4802-9cf0-3434e0d715bc",
   "metadata": {
    "id": "eef90bd4-446a-4802-9cf0-3434e0d715bc",
    "outputId": "7c4b5f61-5f3b-49ff-925c-6b0ef5319e70"
   },
   "outputs": [
    {
     "name": "stdout",
     "output_type": "stream",
     "text": [
      "0\n",
      "1\n",
      "2\n"
     ]
    }
   ],
   "source": [
    "for i in range(3):\n",
    "    print(i)"
   ]
  },
  {
   "cell_type": "markdown",
   "id": "af5f6e24-7eda-4beb-84d4-628ce09ca001",
   "metadata": {
    "id": "af5f6e24-7eda-4beb-84d4-628ce09ca001"
   },
   "source": [
    "# Make a python script to calculate the temprature in celcius from Farhenhiet"
   ]
  },
  {
   "cell_type": "markdown",
   "id": "64422b3a-0c25-47bd-9250-295efcace587",
   "metadata": {
    "id": "64422b3a-0c25-47bd-9250-295efcace587"
   },
   "source": [
    "### Nested for loops"
   ]
  },
  {
   "cell_type": "code",
   "execution_count": null,
   "id": "a57d2479-d5d8-4592-94a0-4e37294ff66b",
   "metadata": {
    "id": "a57d2479-d5d8-4592-94a0-4e37294ff66b",
    "outputId": "21844475-3efa-41db-d6a8-edafac0610c9"
   },
   "outputs": [
    {
     "name": "stdout",
     "output_type": "stream",
     "text": [
      "*****\n",
      "*****\n",
      "*****\n"
     ]
    }
   ],
   "source": [
    "\"\"\"The program intends to make a rectangle of * of\n",
    "3 rows and 5 columns\"\"\" #<-- Multiline commenting\n",
    "for i in range(0,3):\n",
    "    s = \"\"\n",
    "    for j in range(0,5):\n",
    "        s+=\"*\"\n",
    "    print(s)\n"
   ]
  },
  {
   "cell_type": "code",
   "execution_count": null,
   "id": "edefd9a3-7dcf-428a-b3d4-150af2dc74c3",
   "metadata": {
    "id": "edefd9a3-7dcf-428a-b3d4-150af2dc74c3",
    "outputId": "a880061d-e301-44cf-86a0-e8d4a31f5f27"
   },
   "outputs": [
    {
     "name": "stdout",
     "output_type": "stream",
     "text": [
      "*****\n",
      "****\n",
      "***\n",
      "**\n",
      "*\n"
     ]
    }
   ],
   "source": [
    "for i in range(0,5):\n",
    "    s = \"\"\n",
    "    for j in range(5,i,-1):\n",
    "        s+=\"*\"\n",
    "    print(s)"
   ]
  },
  {
   "cell_type": "code",
   "execution_count": null,
   "id": "733e7854-1f55-49d1-a6b0-f1dd465f1ddd",
   "metadata": {
    "id": "733e7854-1f55-49d1-a6b0-f1dd465f1ddd",
    "outputId": "155cb405-6618-4014-9631-f0491dcd03d5"
   },
   "outputs": [
    {
     "name": "stdout",
     "output_type": "stream",
     "text": [
      "| * * * * *|\n",
      "|* * * * * |\n",
      "| * * * * *|\n",
      "|* * * * * |\n",
      "| * * * * *|\n",
      "|* * * * * |\n",
      "| * * * * *|\n",
      "|* * * * * |\n",
      "| * * * * *|\n",
      "|* * * * * |\n"
     ]
    }
   ],
   "source": [
    "# Multiline commenting starts\n",
    "'''\n",
    "The code is meant to make pipes at the edges of what it draws\n",
    "and the odd rows prints first space then * alternatively 5 times and\n",
    "the even rows prints vice-versa fashion\n",
    "-----\n",
    "Author Information:\n",
    "Name: Kapil\n",
    "Date of Modification: 31-08-2024\n",
    "Email: kapil@nitkkr.ac.in\n",
    "''' # Multiline commenting ends\n",
    "flag = 1\n",
    "for i in range(10): # spans over 14-25 lines\n",
    "    s = \"|\"\n",
    "    for j in range(10): # spans over 16-19 lines\n",
    "        if j%2 == flag: # spans over 17\n",
    "            s+=\"*\"\n",
    "        else:           # spans over 19\n",
    "            s+=\" \"\n",
    "    s+=\"|\"\n",
    "    print(s)\n",
    "    if flag==1:\n",
    "        flag=0\n",
    "    else:\n",
    "        flag=1\n",
    "\n",
    "# a block is always indented more and variables may have block scope"
   ]
  },
  {
   "cell_type": "markdown",
   "id": "d9464a5c-e47c-4664-8fc7-a34cc7219be6",
   "metadata": {
    "id": "d9464a5c-e47c-4664-8fc7-a34cc7219be6"
   },
   "source": [
    "## Homework 004\n",
    "\n",
    "### Five Little Monkeys Jumping on the Bed\n",
    "Lets write this poem through python. One can notice every time one monkey get his/her head bumped. So most of the lines are same in each paragraph. So how to write a smallest python program\n",
    "```\n",
    "Five little monkeys jumping on the bed\n",
    "One fell down and bumped his head\n",
    "Mama called the doctor, and the doctor said\n",
    "\"No more monkeys jumping on the bed!\"\n",
    "\n",
    "Four little monkeys jumping on the bed\n",
    "One fell down and bumped his head\n",
    "Mama called the doctor, and the doctor said\n",
    "\"No more monkeys jumping on the bed!\"\n",
    "\n",
    "Three little monkeys jumping on the bed\n",
    "One fell down and bumped his head\n",
    "Mama called the doctor, and the doctor said\n",
    "\"No more monkeys jumping on the bed!\"\n",
    "\n",
    "Two little monkeys jumping on the bed\n",
    "One fell down and bumped his head\n",
    "Mama called the doctor, and the doctor said\n",
    "\"No more monkeys jumping on the bed!\"\n",
    "\n",
    "One little monkey jumping on the bed\n",
    "He fell down and bumped his head\n",
    "Mama called the doctor, and the doctor said\n",
    "\"No more monkeys jumping on the bed!\"\n",
    "\n",
    "No little monkeys jumping on the bed\n",
    "None fell down to bump their head\n",
    "Mama called the doctor, and the doctor said\n",
    "\n",
    "\"Put those monkeys back into bed!\"\n",
    "```"
   ]
  },
  {
   "cell_type": "code",
   "execution_count": null,
   "id": "86781ba2-d087-4a52-97cb-a33c4b231c9f",
   "metadata": {
    "id": "86781ba2-d087-4a52-97cb-a33c4b231c9f",
    "outputId": "6cfa9a1f-bd1a-4144-aa2f-fab07ce34504"
   },
   "outputs": [
    {
     "name": "stdout",
     "output_type": "stream",
     "text": [
      "Five little monkeys jumping on the bed\n",
      "One fell down and bumped his head\n",
      "Mama called the doctor, and the doctor said\n",
      "\"No more monkeys jumping on the bed!\"\n",
      "\n",
      "Four little monkeys jumping on the bed\n",
      "One fell down and bumped his head\n",
      "Mama called the doctor, and the doctor said\n",
      "\"No more monkeys jumping on the bed!\"\n",
      "\n",
      "Three little monkeys jumping on the bed\n",
      "One fell down and bumped his head\n",
      "Mama called the doctor, and the doctor said\n",
      "\"No more monkeys jumping on the bed!\"\n",
      "\n",
      "Two little monkeys jumping on the bed\n",
      "One fell down and bumped his head\n",
      "Mama called the doctor, and the doctor said\n",
      "\"No more monkeys jumping on the bed!\"\n",
      "\n",
      "One little monkey jumping on the bed\n",
      "One fell down and bumped his head\n",
      "Mama called the doctor, and the doctor said\n",
      "\"No more monkeys jumping on the bed!\"\n",
      "\n",
      "No little monkeys jumping on the bed\n",
      "None fell down and bumped his head\n",
      "Mama called the doctor, and the doctor said\n",
      "\"Put those monkeys back into bed!\"\n",
      "\n"
     ]
    }
   ],
   "source": [
    "l = [\"Five\", \"Four\", \"Three\", \"Two\", \"One\", \"No\"]\n",
    "for i in range(6):\n",
    "    print(f'''{l[i]} little monkey{\"\" if i==4 else \"s\"} jumping on the bed\n",
    "{\"None\" if i==5 else \"One\"} fell down and bumped his head\n",
    "Mama called the doctor, and the doctor said\n",
    "{'\"No more monkeys jumping on the bed!\"' if i<5 else '\"Put those monkeys back into bed!\"'}\n",
    "''')"
   ]
  },
  {
   "cell_type": "code",
   "execution_count": null,
   "id": "997fc33f-eff0-411f-b9b4-523f98851efe",
   "metadata": {
    "id": "997fc33f-eff0-411f-b9b4-523f98851efe",
    "outputId": "25b1f827-218f-4de1-8f4f-cf5499bed3fb"
   },
   "outputs": [
    {
     "name": "stdout",
     "output_type": "stream",
     "text": [
      "Five little monkeys jumping on the bed\n",
      "One fell down and bumped his head\n",
      "Mama called the doctor, and the doctor said\n",
      "\"No more monkeys jumping on the bed!\"\n",
      "\n",
      "Four little monkeys jumping on the bed\n",
      "One fell down and bumped his head\n",
      "Mama called the doctor, and the doctor said\n",
      "\"No more monkeys jumping on the bed!\"\n",
      "\n",
      "Three little monkeys jumping on the bed\n",
      "One fell down and bumped his head\n",
      "Mama called the doctor, and the doctor said\n",
      "\"No more monkeys jumping on the bed!\"\n",
      "\n",
      "Two little monkeys jumping on the bed\n",
      "One fell down and bumped his head\n",
      "Mama called the doctor, and the doctor said\n",
      "\"No more monkeys jumping on the bed!\"\n",
      "\n",
      "One little monkey jumping on the bed\n",
      "One fell down and bumped his head\n",
      "Mama called the doctor, and the doctor said\n",
      "\"No more monkeys jumping on the bed!\"\n",
      "\n",
      "No little monkeys jumping on the bed\n",
      "None fell down and bumped his head\n",
      "Mama called the doctor, and the doctor said\n",
      "\"Put those monkeys back into bed!\"\n",
      "\n"
     ]
    }
   ],
   "source": [
    "l = [\"No\", \"One\", \"Two\", \"Three\", \"Four\", \"Five\"]\n",
    "\n",
    "for numMonkey in range(5,-1,-1):\n",
    "    if numMonkey ==1:\n",
    "        plural = \"\"\n",
    "    else:\n",
    "        plural = \"s\"\n",
    "\n",
    "    if numMonkey == 0:\n",
    "        numFellOff = \"None\"\n",
    "        docSaid =  '\"Put those monkeys back into bed!\"'\n",
    "    else:\n",
    "        numFellOff = \"One\"\n",
    "        docSaid = '\"No more monkeys jumping on the bed!\"'\n",
    "\n",
    "    print(f'''{l[numMonkey]} little monkey{plural} jumping on the bed\n",
    "{numFellOff} fell down and bumped his head\n",
    "Mama called the doctor, and the doctor said\n",
    "{docSaid}\n",
    "''')"
   ]
  },
  {
   "cell_type": "markdown",
   "id": "a57ce7cc-0f72-4066-bbf6-fd32bda9d4bf",
   "metadata": {
    "id": "a57ce7cc-0f72-4066-bbf6-fd32bda9d4bf"
   },
   "source": [
    "### for-break\n"
   ]
  },
  {
   "cell_type": "code",
   "execution_count": null,
   "id": "9b415be6-2a16-480a-ac6f-a552f0d39a88",
   "metadata": {
    "id": "9b415be6-2a16-480a-ac6f-a552f0d39a88",
    "outputId": "19b1bb5e-25aa-4e69-fb8f-109da9c1f04f"
   },
   "outputs": [
    {
     "name": "stdout",
     "output_type": "stream",
     "text": [
      "1\n",
      "2\n",
      "7\n"
     ]
    }
   ],
   "source": [
    "for i in [1,2,7,3,4,5,7]: #remove/add 7 in the list to understand the utility of else\n",
    "    print(i)\n",
    "    if i==7:\n",
    "        break #<-- asks to exit from loop"
   ]
  },
  {
   "cell_type": "markdown",
   "id": "7bef39e7-f8fb-423a-bb01-68afeb9816bc",
   "metadata": {
    "id": "7bef39e7-f8fb-423a-bb01-68afeb9816bc"
   },
   "source": [
    "### for-else-break"
   ]
  },
  {
   "cell_type": "code",
   "execution_count": null,
   "id": "114b1895-d3f6-47be-a01f-140e337e22c2",
   "metadata": {
    "id": "114b1895-d3f6-47be-a01f-140e337e22c2",
    "outputId": "be6fcd8c-1aba-4566-a55c-97947a5a8930"
   },
   "outputs": [
    {
     "name": "stdout",
     "output_type": "stream",
     "text": [
      "1\n",
      "2\n",
      "7\n"
     ]
    }
   ],
   "source": [
    "for i in [1,2,7,3,4,5,7]: #remove/add 7 in the list to understand the utility of else\n",
    "    print(i)\n",
    "    if i==7:\n",
    "        break #<-- asks to exit from loop\n",
    "else:         #<-- executes only if loop exits completeling its cycle\n",
    "    print(\"Hello\")"
   ]
  },
  {
   "cell_type": "markdown",
   "id": "a7ffd904-cbcd-4fd0-9964-3196275e1de4",
   "metadata": {
    "id": "a7ffd904-cbcd-4fd0-9964-3196275e1de4"
   },
   "source": [
    "#### An interesting usage of for-else\n",
    "You can understand its importance when you code the same in C"
   ]
  },
  {
   "cell_type": "code",
   "execution_count": null,
   "id": "784191af-07f8-4c70-b76c-fdb5a95c45b2",
   "metadata": {
    "id": "784191af-07f8-4c70-b76c-fdb5a95c45b2",
    "outputId": "0e8126ab-f963-4081-c0ed-6e06dfdb871e"
   },
   "outputs": [
    {
     "name": "stdout",
     "output_type": "stream",
     "text": [
      "Enter number to identify if its prime:  8\n"
     ]
    },
    {
     "name": "stdout",
     "output_type": "stream",
     "text": [
      "8 is not a prime number\n"
     ]
    }
   ],
   "source": [
    "import math\n",
    "x = int(input(\"Enter number to identify if its prime: \"))\n",
    "for i in range(2,math.floor(x**0.5)+1):\n",
    "    if x%i==0 :\n",
    "        print(f\"{x} is not a prime number\")\n",
    "        break\n",
    "else:\n",
    "    print(f\"{x} is a prime number\") #<-- this portion runs only if the loop does not breaks in between"
   ]
  },
  {
   "cell_type": "markdown",
   "id": "1211efcd-b176-4eb6-a14d-87126997ec24",
   "metadata": {
    "id": "1211efcd-b176-4eb6-a14d-87126997ec24"
   },
   "source": [
    "### pass Keyword\n",
    "     to allows writing empty constructs"
   ]
  },
  {
   "cell_type": "code",
   "execution_count": null,
   "id": "c9071324-5093-45ae-97b1-6f5280b08bda",
   "metadata": {
    "id": "c9071324-5093-45ae-97b1-6f5280b08bda"
   },
   "outputs": [],
   "source": [
    "for i in range(6):\n",
    "    pass"
   ]
  },
  {
   "cell_type": "markdown",
   "id": "47eadc03-a71a-4311-b635-4b11cd04bf85",
   "metadata": {
    "id": "47eadc03-a71a-4311-b635-4b11cd04bf85"
   },
   "source": [
    "### continue Keyword"
   ]
  },
  {
   "cell_type": "code",
   "execution_count": null,
   "id": "90de596d-c633-4721-8a53-39c082e64f3c",
   "metadata": {
    "id": "90de596d-c633-4721-8a53-39c082e64f3c",
    "outputId": "64dcaa75-f56b-4035-8664-3d0e9cbab3f6"
   },
   "outputs": [
    {
     "name": "stdout",
     "output_type": "stream",
     "text": [
      "1\n",
      "2\n",
      "2\n",
      "Hello\n",
      "3\n",
      "4\n",
      "4\n",
      "Hello\n",
      "5\n",
      "6\n"
     ]
    }
   ],
   "source": [
    "for i in range(1,6):\n",
    "    print(i)\n",
    "    if(i%2):\n",
    "        i = i+1\n",
    "        print(i)\n",
    "        continue #<-- after this execution starts from next iteration\n",
    "    print(\"Hello\")"
   ]
  },
  {
   "cell_type": "markdown",
   "id": "b1ccf865-6ba9-4b40-94f4-9094572b8da4",
   "metadata": {
    "id": "b1ccf865-6ba9-4b40-94f4-9094572b8da4"
   },
   "source": [
    "# Functions\n",
    "    We need functions-\n",
    "       1. to use same code many times\n",
    "       2. use same code with small modification"
   ]
  },
  {
   "cell_type": "code",
   "execution_count": null,
   "id": "4b8472b1-5673-4ea2-bcec-87c4d633a540",
   "metadata": {
    "id": "4b8472b1-5673-4ea2-bcec-87c4d633a540",
    "outputId": "f5972c35-d34a-455e-c0f6-09b524017532"
   },
   "outputs": [
    {
     "name": "stdout",
     "output_type": "stream",
     "text": [
      "Howdy!\n",
      "Howdy!!!\n",
      "Hello there.\n",
      "Howdy!\n",
      "Howdy!!!\n",
      "Hello there.\n",
      "Howdy!\n",
      "Howdy!!!\n",
      "Hello there.\n"
     ]
    }
   ],
   "source": [
    "# function without argument\n",
    "\n",
    "## Function definition\n",
    "## Example of a function to use same code many times\n",
    "def hello():\n",
    "    # function block started with indentation\n",
    "    print('Howdy!')\n",
    "    print('Howdy!!!')\n",
    "    print('Hello there.')\n",
    "#function block ends with indentation\n",
    "\n",
    "## function call\n",
    "hello() # call of a function takes the execution to the start of the function\n",
    "hello()\n",
    "hello()"
   ]
  },
  {
   "cell_type": "code",
   "execution_count": null,
   "id": "7cb1648a-b35e-4d95-8b0d-e341839893fe",
   "metadata": {
    "id": "7cb1648a-b35e-4d95-8b0d-e341839893fe",
    "outputId": "b91ad2fe-cb4b-4739-f342-08789b674c94"
   },
   "outputs": [
    {
     "name": "stdout",
     "output_type": "stream",
     "text": [
      "True\n",
      "True\n",
      "False\n",
      "True\n",
      "False\n",
      "False\n",
      "True\n",
      "False\n",
      "Howdy!\n",
      "Howdy!!!\n",
      "Hello there.\n",
      "call to hello function, the value returned is None\n"
     ]
    }
   ],
   "source": [
    "## Example of a function that use same code with a small modification\n",
    "def isEvenNumber(x): # definition of function\n",
    "    #x is an argument\n",
    "    if x%2==0:\n",
    "        return True  #return value\n",
    "    else:\n",
    "        return False #return value\n",
    "# as soon as the return statement is encountered,\n",
    "# the execution control goes to the next line to the\n",
    "# function call, which asked it to execute the call\n",
    "for i in [2,10,7,98,103]:\n",
    "    x = isEvenNumber(i)      # call of function\n",
    "    print(x)\n",
    "\n",
    "y = isEvenNumber(109)\n",
    "#the returned value is r-value here\n",
    "#the l-value of y gets that r-value\n",
    "print(y)\n",
    "\n",
    "# The above two lines of code have the same effect as\n",
    "# each of the below one line\n",
    "print(isEvenNumber(10))\n",
    "print(isEvenNumber(399))\n",
    "\n",
    "#lets see what is returned by a function with no return\n",
    "# statement\n",
    "def hello():\n",
    "    # function block started with indentation\n",
    "    print('Howdy!')\n",
    "    print('Howdy!!!')\n",
    "    print('Hello there.')\n",
    "\n",
    "print(\"call to hello function, the value returned is\", hello())"
   ]
  },
  {
   "cell_type": "markdown",
   "id": "bbcbb296-7a71-44bc-b2da-a770412c77bc",
   "metadata": {
    "id": "bbcbb296-7a71-44bc-b2da-a770412c77bc"
   },
   "source": [
    "### Function with keyword argument"
   ]
  },
  {
   "cell_type": "code",
   "execution_count": 6,
   "id": "377cd201-e65f-49bd-9b97-ca29086cdf2b",
   "metadata": {
    "id": "377cd201-e65f-49bd-9b97-ca29086cdf2b",
    "outputId": "66f43388-a174-4d0d-b1c8-1282d8569096"
   },
   "outputs": [
    {
     "name": "stdout",
     "output_type": "stream",
     "text": [
      "Hello\n",
      "World\n",
      "Hello,Ram;shyam\n",
      "rajesh\n"
     ]
    }
   ],
   "source": [
    "print(\"Hello\")\n",
    "print(\"World\")\n",
    "print(\"Hello\", \"Ram\", end=\";\", sep=\",\")# default value of end is new line, and sep is a space\n",
    "print(\"shyam\")\n",
    "print(\"rajesh\")"
   ]
  },
  {
   "cell_type": "markdown",
   "id": "e2a2552e-54a6-460e-9b24-971897109cc1",
   "metadata": {
    "id": "e2a2552e-54a6-460e-9b24-971897109cc1"
   },
   "source": [
    "### Function with Iteration"
   ]
  },
  {
   "cell_type": "code",
   "execution_count": null,
   "id": "ecbd55dc-24c7-4528-b300-3617f8bff9ba",
   "metadata": {
    "id": "ecbd55dc-24c7-4528-b300-3617f8bff9ba",
    "outputId": "7aedf3e4-0b00-473c-e02b-e8b28d1f4a4b"
   },
   "outputs": [
    {
     "name": "stdout",
     "output_type": "stream",
     "text": [
      "32\n"
     ]
    }
   ],
   "source": [
    "def powerfun(a,n):\n",
    "    # a,n both are arguments; arguments can be many\n",
    "    prod = 1\n",
    "    for i in range(n):\n",
    "        prod = prod*a\n",
    "    return prod\n",
    "\n",
    "print(powerfun(2,5))"
   ]
  },
  {
   "cell_type": "markdown",
   "id": "070f5619-9b40-4df3-8686-0f8c5b5e277b",
   "metadata": {
    "id": "070f5619-9b40-4df3-8686-0f8c5b5e277b"
   },
   "source": [
    "### Function on stack\n"
   ]
  },
  {
   "cell_type": "code",
   "execution_count": null,
   "id": "3fa21c07-56ba-4779-9948-846ab2e2ab0b",
   "metadata": {
    "id": "3fa21c07-56ba-4779-9948-846ab2e2ab0b",
    "outputId": "43cbe9f0-99e7-4614-b5d5-4021d9c49dab"
   },
   "outputs": [
    {
     "name": "stdout",
     "output_type": "stream",
     "text": [
      "a() starts\n",
      "b() starts\n",
      "c() starts\n",
      "c() returns\n",
      "b() returns\n",
      "d() starts\n",
      "d() returns\n",
      "a() returns\n"
     ]
    }
   ],
   "source": [
    "def a():\n",
    "       print('a() starts')\n",
    "       b()\n",
    "       d()\n",
    "       print('a() returns')\n",
    "\n",
    "def b():\n",
    "       print('b() starts')\n",
    "       c()\n",
    "       print('b() returns')\n",
    "\n",
    "def c():\n",
    "       print('c() starts')\n",
    "       print('c() returns')\n",
    "\n",
    "\n",
    "def d():\n",
    "       print('d() starts')\n",
    "       print('d() returns')\n",
    "\n",
    "a()"
   ]
  },
  {
   "cell_type": "markdown",
   "id": "899712ce-f8d6-4a4b-8e82-c51a035a8bb5",
   "metadata": {
    "id": "899712ce-f8d6-4a4b-8e82-c51a035a8bb5"
   },
   "source": [
    "### Recursive functions\n",
    "Check the [execution](https://pythontutor.com/render.html#code=def%20a%28n%29%3A%0A%20%20%20%20print%28f%22call%20started%20to%20a%28%29%20with%20n%20%3D%20%7Bn%7D%22%29%0A%20%20%20%20if%28n!%3D0%29%3A%0A%20%20%20%20%20%20%20%20a%28n-1%29%0A%20%20%20%20print%28f%22call%20ending%20to%20a%28%29%20with%20n%20%3D%20%7Bn%7D%22%29%0A%0Aa%283%29&cumulative=false&curInstr=17&heapPrimitives=nevernest&mode=display&origin=opt-frontend.js&py=3&rawInputLstJSON=%5B%5D&textReferences=false)"
   ]
  },
  {
   "cell_type": "code",
   "execution_count": null,
   "id": "4bbe642f-0ff5-41bc-8368-9037d8cc1bc1",
   "metadata": {
    "id": "4bbe642f-0ff5-41bc-8368-9037d8cc1bc1",
    "outputId": "150b7867-c044-450d-ec95-edf3fe7f47f5"
   },
   "outputs": [
    {
     "name": "stdout",
     "output_type": "stream",
     "text": [
      "call started to a() with n = 4\n",
      "call started to a() with n = 3\n",
      "call started to a() with n = 2\n",
      "call started to a() with n = 1\n",
      "call started to a() with n = 0\n",
      "call ending to a() with n = 0\n",
      "call ending to a() with n = 1\n",
      "call ending to a() with n = 2\n",
      "call ending to a() with n = 3\n",
      "call ending to a() with n = 4\n"
     ]
    }
   ],
   "source": [
    "def a(n):\n",
    "    print(f\"call started to a() with n = {n}\")\n",
    "    if(n!=0):\n",
    "        a(n-1)\n",
    "    print(f\"call ending to a() with n = {n}\")\n",
    "\n",
    "a(4)\n",
    "#print(n) #n is in the scope of function a and not in the global scope, creates error"
   ]
  },
  {
   "cell_type": "markdown",
   "id": "666f8991-d514-4668-a893-28773d818d5f",
   "metadata": {
    "id": "666f8991-d514-4668-a893-28773d818d5f"
   },
   "source": [
    "### Scope of variables, Global & Local"
   ]
  },
  {
   "cell_type": "code",
   "execution_count": null,
   "id": "b5863cc7-ed55-4393-b7b8-fc83b939b190",
   "metadata": {
    "id": "b5863cc7-ed55-4393-b7b8-fc83b939b190",
    "outputId": "de1fe3e8-58b7-4f87-c873-2fb20c8b4b8b"
   },
   "outputs": [
    {
     "name": "stdout",
     "output_type": "stream",
     "text": [
      "spam\n",
      "bacon\n",
      "spam\n",
      "42\n"
     ]
    }
   ],
   "source": [
    "def spam():\n",
    "    global eggs\n",
    "    eggs = 'spam' # this is the global\n",
    "    print(eggs)\n",
    "\n",
    "def bacon():\n",
    "    # In a function, a variable will either always be global or always be local.\n",
    "    #print(eggs) #UnboundLocalError, occurs, in a function the variable accessed\n",
    "    eggs = 'bacon' # this is a local\n",
    "    print(eggs)\n",
    "\n",
    "def ham():\n",
    "    print(eggs) # this is the global\n",
    "\n",
    "eggs = 42 # this is the global\n",
    "spam()\n",
    "bacon()\n",
    "ham()\n",
    "eggs = 42 # this is the global\n",
    "print(eggs)"
   ]
  },
  {
   "cell_type": "markdown",
   "id": "e406ac77-955d-417c-a668-27f9ea2bf371",
   "metadata": {
    "id": "e406ac77-955d-417c-a668-27f9ea2bf371"
   },
   "source": [
    "# Exception Handling"
   ]
  },
  {
   "cell_type": "code",
   "execution_count": null,
   "id": "e4e28a1c-1534-4f65-b76b-56a3dbaf6e5d",
   "metadata": {
    "id": "e4e28a1c-1534-4f65-b76b-56a3dbaf6e5d",
    "outputId": "fbdefb8e-0027-423d-c420-1f21e4bff933"
   },
   "outputs": [
    {
     "name": "stdout",
     "output_type": "stream",
     "text": [
      "4.666666666666667\n",
      "Division with 0 is Not allowed\n",
      "None\n",
      "1.05\n"
     ]
    }
   ],
   "source": [
    "def spam(divideBy):\n",
    "    try:\n",
    "        return 42/divideBy\n",
    "    except ZeroDivisionError:\n",
    "        print(f\"Division with {divideBy} is Not allowed\")\n",
    "print(spam(9))\n",
    "print(spam(0)) #even with\n",
    "print(spam(40)) # this still executes\n"
   ]
  },
  {
   "cell_type": "code",
   "execution_count": null,
   "id": "b79d3bf1-9044-4c06-ae5d-bbba53a83c35",
   "metadata": {
    "id": "b79d3bf1-9044-4c06-ae5d-bbba53a83c35",
    "outputId": "6a2edace-2928-46a6-f5a8-185dada0fca1"
   },
   "outputs": [
    {
     "name": "stdout",
     "output_type": "stream",
     "text": [
      "4.666666666666667\n",
      "Division with zero is Not allowed\n"
     ]
    }
   ],
   "source": [
    "def spam(divideBy):\n",
    "        return 42/divideBy\n",
    "try:\n",
    "    print(spam(9))\n",
    "    print(spam(0)) #even with\n",
    "    print(spam(40)) # this does not execute\n",
    "except ZeroDivisionError:\n",
    "    print(f\"Division with zero is Not allowed\")"
   ]
  },
  {
   "cell_type": "markdown",
   "id": "buJS31N4ehkT",
   "metadata": {
    "id": "buJS31N4ehkT"
   },
   "source": [
    "## User defined exception"
   ]
  },
  {
   "cell_type": "code",
   "execution_count": null,
   "id": "fa956e12-8ba8-43c1-994d-b4ccec9877aa",
   "metadata": {
    "id": "fa956e12-8ba8-43c1-994d-b4ccec9877aa",
    "outputId": "e82fba87-70d1-4652-c2eb-1eb6dcbc057e"
   },
   "outputs": [
    {
     "name": "stdout",
     "output_type": "stream",
     "text": [
      "Relation kap\n"
     ]
    },
    {
     "name": "stdout",
     "output_type": "stream",
     "text": [
      "The person is stranger\n"
     ]
    }
   ],
   "source": [
    "lst = [\"Mother\", \"Father\"]\n",
    "guest = input(\"Relation\")\n",
    "class Stranger(Exception):\n",
    "    pass\n",
    "def greeting(guest):\n",
    "    if guest==\"Mother\":\n",
    "        print(\"Mom\")\n",
    "    elif guest==\"Father\":\n",
    "        print(\"Dad\")\n",
    "    else:\n",
    "        raise Stranger\n",
    "try:\n",
    "    greeting(guest)\n",
    "except Stranger:\n",
    "    print(\"The person is stranger\")\n"
   ]
  },
  {
   "cell_type": "code",
   "execution_count": null,
   "id": "dc35eb8c-abaf-4133-90ef-a3985c041273",
   "metadata": {
    "id": "dc35eb8c-abaf-4133-90ef-a3985c041273",
    "outputId": "75394647-d635-4aef-92c8-0bca04203898"
   },
   "outputs": [
    {
     "name": "stdout",
     "output_type": "stream",
     "text": [
      "Enter a number 56\n"
     ]
    }
   ],
   "source": [
    "try:\n",
    "    x = int(input(\"Enter a number\"))\n",
    "except ValueError:\n",
    "    print(\"You should enter integer\")"
   ]
  },
  {
   "cell_type": "markdown",
   "id": "6cffb08e-2446-4070-aa83-d5c6b6b7b45e",
   "metadata": {
    "id": "6cffb08e-2446-4070-aa83-d5c6b6b7b45e"
   },
   "source": [
    "# Recursive Functions\n",
    "    Let the time taken by the function recPower(a,n) is T(n), then T(n) = const + T(n-1)"
   ]
  },
  {
   "cell_type": "code",
   "execution_count": null,
   "id": "77ca11e8-4941-4cef-bf75-cfc2bbd976a5",
   "metadata": {
    "id": "77ca11e8-4941-4cef-bf75-cfc2bbd976a5",
    "outputId": "c3f76cb4-0253-45be-8215-99e8fdc7f3b3"
   },
   "outputs": [
    {
     "name": "stdout",
     "output_type": "stream",
     "text": [
      "32\n"
     ]
    }
   ],
   "source": [
    "def recPower(a,n):\n",
    "    if n==1:\n",
    "        return a\n",
    "    else:\n",
    "        return a*recPower(a,n-1)\n",
    "print(recPower(2,5))\n"
   ]
  },
  {
   "cell_type": "markdown",
   "id": "d85c3043-9396-4607-8ba9-21a47aeef91d",
   "metadata": {
    "id": "d85c3043-9396-4607-8ba9-21a47aeef91d"
   },
   "source": [
    "### Recursive function with bit of difference\n",
    "     Let the time taken by the function recPower(a,n) is T(n), then T(n) = 2*T(n/2) + const"
   ]
  },
  {
   "cell_type": "code",
   "execution_count": null,
   "id": "cd51f6fe-5b48-49cb-bcc0-1c50439a4825",
   "metadata": {
    "id": "cd51f6fe-5b48-49cb-bcc0-1c50439a4825",
    "outputId": "63fe9944-1099-480c-ed44-b0fe4eb71bf2"
   },
   "outputs": [
    {
     "name": "stdout",
     "output_type": "stream",
     "text": [
      "1044388881413152506691752710716624382579964249047383780384233483283953907971557456848826811934997558340890106714439262837987573438185793607263236087851365277945956976543709998340361590134383718314428070011855946226376318839397712745672334684344586617496807908705803704071284048740118609114467977783598029006686938976881787785946905630190260940599579453432823469303026696443059025015972399867714215541693835559885291486318237914434496734087811872639496475100189041349008417061675093668333850551032972088269550769983616369411933015213796825837188091833656751221318492846368125550225998300412344784862595674492194617023806505913245610825731835380087608622102834270197698202313169017678006675195485079921636419370285375124784014907159135459982790513399611551794271106831134090584272884279791554849782954323534517065223269061394905987693002122963395687782878948440616007412945674919823050571642377154816321380631045902916136926708342856440730447899971901781465763473223850267253059899795996090799469201774624817718449867455659250178329070473119433165550807568221846571746373296884912819520317457002440926616910874148385078411929804522981857338977648103126085903001302413467189726673216491511131602920781738033436090243804708340403154190336\n"
     ]
    }
   ],
   "source": [
    "def recPower(a,n):\n",
    "    if n==1:\n",
    "        return a\n",
    "    elif(n%2==0):\n",
    "        return recPower(a,n/2)*recPower(a,n/2)  #a^n = a^(n/2)*a^(n/2)\n",
    "    else:\n",
    "        return a*recPower(a,(n-1)/2)*recPower(a,(n-1)/2)  #a^n = a*a^((n-1)/2)*a^((n-1)/2)\n",
    "print(recPower(2,4096))"
   ]
  },
  {
   "cell_type": "markdown",
   "id": "a53125af-64ed-4c6b-980c-ec8d9492ef22",
   "metadata": {
    "id": "a53125af-64ed-4c6b-980c-ec8d9492ef22"
   },
   "source": [
    "### Recursive function with bit of optimization\n",
    "    An example of Dynamic Programming-\n",
    "    Let the time taken by the function recPower(a,n) is T(n), then T(n) = T(n/2) + const\n",
    "\n"
   ]
  },
  {
   "cell_type": "code",
   "execution_count": null,
   "id": "a67816ad-dbce-41d5-b4ae-43cc8480059e",
   "metadata": {
    "id": "a67816ad-dbce-41d5-b4ae-43cc8480059e",
    "outputId": "ffc62d36-acde-411e-e1a2-2e435bdadfbf"
   },
   "outputs": [
    {
     "name": "stdout",
     "output_type": "stream",
     "text": [
      "1044388881413152506691752710716624382579964249047383780384233483283953907971557456848826811934997558340890106714439262837987573438185793607263236087851365277945956976543709998340361590134383718314428070011855946226376318839397712745672334684344586617496807908705803704071284048740118609114467977783598029006686938976881787785946905630190260940599579453432823469303026696443059025015972399867714215541693835559885291486318237914434496734087811872639496475100189041349008417061675093668333850551032972088269550769983616369411933015213796825837188091833656751221318492846368125550225998300412344784862595674492194617023806505913245610825731835380087608622102834270197698202313169017678006675195485079921636419370285375124784014907159135459982790513399611551794271106831134090584272884279791554849782954323534517065223269061394905987693002122963395687782878948440616007412945674919823050571642377154816321380631045902916136926708342856440730447899971901781465763473223850267253059899795996090799469201774624817718449867455659250178329070473119433165550807568221846571746373296884912819520317457002440926616910874148385078411929804522981857338977648103126085903001302413467189726673216491511131602920781738033436090243804708340403154190336\n"
     ]
    }
   ],
   "source": [
    "def recPower(a,n):\n",
    "    if n==1:\n",
    "        return a\n",
    "    elif(n%2==0):\n",
    "        x = recPower(a,n/2)\n",
    "        return x*x  #a^n = a^(n/2)*a^(n/2)\n",
    "    else:\n",
    "        x = recPower(a,(n-1)/2)\n",
    "        return a*x*x  #a^n = a*a^((n-1)/2)*a^((n-1)/2)\n",
    "print(recPower(2,4096))"
   ]
  },
  {
   "cell_type": "markdown",
   "id": "8c380a7a-2671-4430-aa3f-395374694531",
   "metadata": {
    "id": "8c380a7a-2671-4430-aa3f-395374694531"
   },
   "source": [
    "# Complex Numbers and the Operations\n",
    "\n",
    "    How different complex numbers look like"
   ]
  },
  {
   "cell_type": "code",
   "execution_count": null,
   "id": "3cfa381b-4a78-4871-a799-830d96717d1b",
   "metadata": {
    "id": "3cfa381b-4a78-4871-a799-830d96717d1b",
    "outputId": "aafbe6b0-a3f9-400d-d5c3-90bec8582ad3"
   },
   "outputs": [
    {
     "name": "stdout",
     "output_type": "stream",
     "text": [
      "Output: (5+7j)\n",
      "Output: (3+0j)\n",
      "Output: 0j\n",
      "Output: (1+1j)\n",
      "Output: (1-4j)\n"
     ]
    }
   ],
   "source": [
    "z = complex(5, 7)\n",
    "print(\"Output:\", z)\n",
    "# Output: (5+7j)\n",
    "\n",
    "z = complex(3)\n",
    "print(\"Output:\", z)\n",
    "# Output: (3+0j)\n",
    "\n",
    "z = complex()\n",
    "print(\"Output:\", z)\n",
    "# Output: 0j\n",
    "\n",
    "z = complex('1+1j')\n",
    "print(\"Output:\", z)\n",
    "# Output: 1+1j\n",
    "\n",
    "z = complex(1, -4)\n",
    "print(\"Output:\", z)\n",
    "# Output: 1-4j"
   ]
  },
  {
   "cell_type": "code",
   "execution_count": null,
   "id": "12f3a6eb-76f8-4875-a553-422526917f6c",
   "metadata": {
    "id": "12f3a6eb-76f8-4875-a553-422526917f6c",
    "outputId": "f578308e-9b63-46d1-a194-c0d61e3b1fab"
   },
   "outputs": [
    {
     "data": {
      "text/plain": [
       "float"
      ]
     },
     "execution_count": 43,
     "metadata": {},
     "output_type": "execute_result"
    }
   ],
   "source": [
    "type(float(\"98\"))"
   ]
  },
  {
   "cell_type": "markdown",
   "id": "3f5639c9-a051-4c1e-8fd5-331ee796891e",
   "metadata": {
    "id": "3f5639c9-a051-4c1e-8fd5-331ee796891e"
   },
   "source": [
    "### in-built function with complex numbers"
   ]
  },
  {
   "cell_type": "code",
   "execution_count": null,
   "id": "2182d6bc-4edc-4ce1-8540-1e7cd0a700f7",
   "metadata": {
    "id": "2182d6bc-4edc-4ce1-8540-1e7cd0a700f7",
    "outputId": "ba9ad02f-d258-49ad-cf32-374c1a7b9fa3"
   },
   "outputs": [
    {
     "name": "stdout",
     "output_type": "stream",
     "text": [
      "Real part: 3.0\n",
      "Imaginary part: 4.0\n",
      "Conjugate value: (3-4j)\n"
     ]
    }
   ],
   "source": [
    "z  = 3 + 4j\n",
    "\n",
    "print(\"Real part:\", z.real)\n",
    "# Real part: 3.0\n",
    "\n",
    "print(\"Imaginary part:\", z.imag)\n",
    "# Imaginary part: 4.0\n",
    "\n",
    "print(\"Conjugate value:\", z.conjugate())\n",
    "# Conjugate value: 3 - 4j\n"
   ]
  },
  {
   "cell_type": "markdown",
   "id": "fe4903e0-dbc5-4004-88f6-4c8074b964bd",
   "metadata": {
    "id": "fe4903e0-dbc5-4004-88f6-4c8074b964bd"
   },
   "source": [
    "### Airthematic Operations"
   ]
  },
  {
   "cell_type": "code",
   "execution_count": null,
   "id": "ce795379-258a-4a88-a7ac-e08c4e5b5fc2",
   "metadata": {
    "id": "ce795379-258a-4a88-a7ac-e08c4e5b5fc2",
    "outputId": "45734369-72d0-4a32-e8c0-facc143d3b2f"
   },
   "outputs": [
    {
     "name": "stdout",
     "output_type": "stream",
     "text": [
      "Addition of numbers: (7+11j)\n",
      "Subtraction of numbers: (5+3j)\n",
      "Multiplication of numbers: (-22+31j)\n",
      "Division of numbers: (2-1j)\n"
     ]
    }
   ],
   "source": [
    "z1 = 6 + 7j\n",
    "z2 = 1 + 4j\n",
    "\n",
    "print(\"Addition of numbers:\", z1 + z2)\n",
    "print(\"Subtraction of numbers:\", z1 - z2)\n",
    "print(\"Multiplication of numbers:\", z1 * z2)\n",
    "print(\"Division of numbers:\", z1 / z2)"
   ]
  },
  {
   "cell_type": "markdown",
   "id": "1b2546ab-2d53-444e-a0cc-046b6fa59b98",
   "metadata": {
    "id": "1b2546ab-2d53-444e-a0cc-046b6fa59b98"
   },
   "source": [
    "### cmath module functions\n",
    "    There many things available in cmath, one has to go through them\n",
    "    "
   ]
  },
  {
   "cell_type": "code",
   "execution_count": null,
   "id": "8d9fd63a-7d0b-46c7-b9f5-3accafdfd143",
   "metadata": {
    "id": "8d9fd63a-7d0b-46c7-b9f5-3accafdfd143",
    "outputId": "5368165c-78c2-4941-d4ee-0dd209ddcb70"
   },
   "outputs": [
    {
     "name": "stdout",
     "output_type": "stream",
     "text": [
      "e^z: (-22.720847417619233+49.645957334580565j)\n",
      "log2(z): (2.1609640474436813+0.6689021062254881j)\n",
      "Sine Value: (-2.8472390868488278-2.3706741693520015j)\n",
      "Arc Sine Value: (1.096921548830143+2.183585216564564j)\n",
      "Hyperbolic Sine Value: (-11.356612711218174+24.83130584894638j)\n",
      "Inverse Hyperbolic Sine Value: (2.198573027920936+0.4538702099631225j)\n"
     ]
    }
   ],
   "source": [
    "import cmath\n",
    "\n",
    "z = 4 + 2j\n",
    "\n",
    "# Power and log functions like log2, log10, sqrt\n",
    "# Power function\n",
    "print(\"e^z:\", cmath.exp(z))\n",
    "\n",
    "# Logarithm function\n",
    "print(\"log2(z):\", cmath.log(z, 2))\n",
    "\n",
    "# Trigonometric functions\n",
    "# For sine value\n",
    "print(\"Sine Value:\", cmath.sin(z))\n",
    "\n",
    "# For cosine value\n",
    "print(\"Arc Sine Value:\", cmath.asin(z))\n",
    "\n",
    "# Hyperbolic functions\n",
    "# For hyperbolic sine value\n",
    "print(\"Hyperbolic Sine Value:\", cmath.sinh(z))\n",
    "\n",
    "# For Inverse hyperbolic sine value\n",
    "print(\"Inverse Hyperbolic Sine Value:\", cmath.asinh(z))"
   ]
  },
  {
   "cell_type": "code",
   "execution_count": null,
   "id": "257fc0b3-d5bf-4efa-b126-53e1039dacdc",
   "metadata": {
    "id": "257fc0b3-d5bf-4efa-b126-53e1039dacdc",
    "outputId": "35236a6e-3e55-42a3-cab7-015bcaca55c2"
   },
   "outputs": [
    {
     "name": "stdout",
     "output_type": "stream",
     "text": [
      "<class 'complex'>\n"
     ]
    }
   ],
   "source": [
    "print(type(complex(\"4+2j\")))"
   ]
  },
  {
   "cell_type": "markdown",
   "id": "99c4b2c0-ad44-49f9-87be-b8167ecc331a",
   "metadata": {
    "id": "99c4b2c0-ad44-49f9-87be-b8167ecc331a"
   },
   "source": [
    "# Generators and Iterators\n",
    "### The range function can be used in three different ways:\n",
    "\n",
    "  1. range(stop): Generates numbers from 0 to stop - 1.\n",
    "  2. range(start, stop): Generates numbers from start to stop - 1.\n",
    "  3. range(start, stop, step): Generates numbers from start to stop - 1, incrementing by step."
   ]
  },
  {
   "cell_type": "code",
   "execution_count": null,
   "id": "c0fe01ee-93b9-407e-bf7a-6f09498aa568",
   "metadata": {
    "id": "c0fe01ee-93b9-407e-bf7a-6f09498aa568",
    "outputId": "f2bb0679-c178-4a36-e0e8-9db92d7b34bc"
   },
   "outputs": [
    {
     "name": "stdout",
     "output_type": "stream",
     "text": [
      "# range(stop)\n",
      "0\n",
      "1\n",
      "2\n",
      "3\n",
      "4\n",
      "range(start, stop)\n",
      "1\n",
      "2\n",
      "3\n",
      "4\n",
      "# range(start, stop, step)\n",
      "1\n",
      "3\n",
      "5\n",
      "7\n",
      "9\n"
     ]
    }
   ],
   "source": [
    "print( \"\"\"# range(stop)\"\"\")\n",
    "for i in range(5):\n",
    "    print(i)  # Output: 0 1 2 3 4\n",
    "print(\"\"\"range(start, stop)\"\"\")\n",
    "for i in range(1, 5):\n",
    "    print(i)  # Output: 1 2 3 4\n",
    "\n",
    "print(\"\"\"# range(start, stop, step)\"\"\")\n",
    "for i in range(1, 10, 2):\n",
    "    print(i)  # Output: 1 3 5 7 9"
   ]
  },
  {
   "cell_type": "code",
   "execution_count": null,
   "id": "6774ad8e-55ac-4422-913b-e6e747d176c4",
   "metadata": {
    "id": "6774ad8e-55ac-4422-913b-e6e747d176c4",
    "outputId": "1239bcae-ea68-461d-dd3c-91f2c3ffb8f2"
   },
   "outputs": [
    {
     "name": "stdout",
     "output_type": "stream",
     "text": [
      "4\n",
      "7\n"
     ]
    }
   ],
   "source": [
    "for i in range(4,10,3):\n",
    "    print(i)"
   ]
  },
  {
   "cell_type": "code",
   "execution_count": null,
   "id": "e12687ec-4bac-4cf4-ad03-9f06496ffcd3",
   "metadata": {
    "id": "e12687ec-4bac-4cf4-ad03-9f06496ffcd3",
    "outputId": "ad71bad6-25ef-42a4-ab30-01d23018c48f"
   },
   "outputs": [
    {
     "name": "stdout",
     "output_type": "stream",
     "text": [
      "0\n",
      "10\n",
      "20\n",
      "30\n",
      "40\n"
     ]
    }
   ],
   "source": [
    "for i in range(5):\n",
    "    i = i*10\n",
    "    print(i) # in python updation of i intermediately does not affect next iteration value\n"
   ]
  },
  {
   "cell_type": "code",
   "execution_count": null,
   "id": "91f6ee4c-6c79-41d8-95ad-9a8650828203",
   "metadata": {
    "colab": {
     "base_uri": "https://localhost:8080/"
    },
    "executionInfo": {
     "elapsed": 1029,
     "status": "ok",
     "timestamp": 1727222811881,
     "user": {
      "displayName": "Kapil Gupta",
      "userId": "18028080270304763887"
     },
     "user_tz": -330
    },
    "id": "91f6ee4c-6c79-41d8-95ad-9a8650828203",
    "outputId": "981a9ed9-abdd-4bfc-8859-cf64facf8216"
   },
   "outputs": [
    {
     "name": "stdout",
     "output_type": "stream",
     "text": [
      "n uryyb jbeyq\n"
     ]
    }
   ],
   "source": [
    "# prompt: print hello world using rot13\n",
    "\n",
    "def rot13(text):\n",
    "  result = ''\n",
    "  for char in text:\n",
    "    if 'a' <= char <= 'z':\n",
    "      result += chr(((ord(char) - ord('a') + 13) % 26) + ord('a'))\n",
    "    elif 'A' <= char <= 'Z':\n",
    "      result += chr(((ord(char) - ord('A') + 13) % 26) + ord('A'))\n",
    "    else:\n",
    "      result += char\n",
    "  return result\n",
    "\n",
    "hello_world_rot13 = rot13(\"a hello world\")\n",
    "print(hello_world_rot13)\n"
   ]
  },
  {
   "cell_type": "markdown",
   "id": "IuXEJ-HB0JrJ",
   "metadata": {
    "id": "IuXEJ-HB0JrJ"
   },
   "source": [
    "# Lists"
   ]
  },
  {
   "cell_type": "code",
   "execution_count": null,
   "id": "FDKaB3eH2rI3",
   "metadata": {
    "colab": {
     "base_uri": "https://localhost:8080/"
    },
    "executionInfo": {
     "elapsed": 517,
     "status": "ok",
     "timestamp": 1727228860218,
     "user": {
      "displayName": "Kapil Gupta",
      "userId": "18028080270304763887"
     },
     "user_tz": -330
    },
    "id": "FDKaB3eH2rI3",
    "outputId": "cf35f9bc-ed41-4001-b79e-86021e7e08e6"
   },
   "outputs": [
    {
     "name": "stdout",
     "output_type": "stream",
     "text": [
      "[1, 2, 3]\n",
      "cat\n",
      "bat\n",
      "rat\n",
      "elephant\n",
      "elephant\n",
      "rat\n",
      "bat\n",
      "cat\n"
     ]
    }
   ],
   "source": [
    "x = [1, 2, 3] # can have numbers\n",
    "print(x)\n",
    "\n",
    "x= ['cat', 'bat', 'rat', 'elephant'] #can have strings\n",
    "print(x)\n",
    "\n",
    "x = ['hello', 3.1415, True, None, 42] #can have mixed data\n",
    "print(x)"
   ]
  },
  {
   "cell_type": "markdown",
   "id": "cMCft1FP3X85",
   "metadata": {
    "id": "cMCft1FP3X85"
   },
   "source": [
    "## Indexing"
   ]
  },
  {
   "cell_type": "code",
   "execution_count": null,
   "id": "BqhJMoZh3Vjh",
   "metadata": {
    "colab": {
     "base_uri": "https://localhost:8080/",
     "height": 263
    },
    "executionInfo": {
     "elapsed": 509,
     "status": "error",
     "timestamp": 1727229317261,
     "user": {
      "displayName": "Kapil Gupta",
      "userId": "18028080270304763887"
     },
     "user_tz": -330
    },
    "id": "BqhJMoZh3Vjh",
    "outputId": "fd29933a-bbb5-45f1-954c-d954b508ea52"
   },
   "outputs": [
    {
     "name": "stdout",
     "output_type": "stream",
     "text": [
      "cat\n",
      "bat\n",
      "rat\n",
      "elephant\n",
      "p\n"
     ]
    },
    {
     "ename": "IndexError",
     "evalue": "list index out of range",
     "output_type": "error",
     "traceback": [
      "\u001b[0;31m---------------------------------------------------------------------------\u001b[0m",
      "\u001b[0;31mIndexError\u001b[0m                                Traceback (most recent call last)",
      "\u001b[0;32m<ipython-input-21-d40fb741b571>\u001b[0m in \u001b[0;36m<cell line: 7>\u001b[0;34m()\u001b[0m\n\u001b[1;32m      5\u001b[0m \u001b[0mprint\u001b[0m\u001b[0;34m(\u001b[0m\u001b[0mx\u001b[0m\u001b[0;34m[\u001b[0m\u001b[0;36m3\u001b[0m\u001b[0;34m]\u001b[0m\u001b[0;34m)\u001b[0m\u001b[0;34m\u001b[0m\u001b[0;34m\u001b[0m\u001b[0m\n\u001b[1;32m      6\u001b[0m \u001b[0mprint\u001b[0m\u001b[0;34m(\u001b[0m\u001b[0mx\u001b[0m\u001b[0;34m[\u001b[0m\u001b[0;36m3\u001b[0m\u001b[0;34m]\u001b[0m\u001b[0;34m[\u001b[0m\u001b[0;36m3\u001b[0m\u001b[0;34m]\u001b[0m\u001b[0;34m)\u001b[0m\u001b[0;34m\u001b[0m\u001b[0;34m\u001b[0m\u001b[0m\n\u001b[0;32m----> 7\u001b[0;31m \u001b[0mprint\u001b[0m\u001b[0;34m(\u001b[0m\u001b[0mx\u001b[0m\u001b[0;34m[\u001b[0m\u001b[0;36m4\u001b[0m\u001b[0;34m]\u001b[0m\u001b[0;34m)\u001b[0m\u001b[0;34m\u001b[0m\u001b[0;34m\u001b[0m\u001b[0m\n\u001b[0m",
      "\u001b[0;31mIndexError\u001b[0m: list index out of range"
     ]
    }
   ],
   "source": [
    "x= ['cat', 'bat', 'rat', 'elephant'] #lists maintains order and hence can be indexed with integers\n",
    "print(x[0])\n",
    "print(x[1])\n",
    "print(x[2])\n",
    "print(x[3])\n",
    "print(x[3][3])\n",
    "print(x[10]) # IndexError: list index out of range"
   ]
  },
  {
   "cell_type": "markdown",
   "id": "FwjJWuNZ3iCj",
   "metadata": {
    "id": "FwjJWuNZ3iCj"
   },
   "source": [
    "## Negative Indexing"
   ]
  },
  {
   "cell_type": "code",
   "execution_count": null,
   "id": "oRYRlv6A3nEU",
   "metadata": {
    "colab": {
     "base_uri": "https://localhost:8080/"
    },
    "executionInfo": {
     "elapsed": 3508,
     "status": "ok",
     "timestamp": 1727278233581,
     "user": {
      "displayName": "Kapil Gupta",
      "userId": "18028080270304763887"
     },
     "user_tz": -330
    },
    "id": "oRYRlv6A3nEU",
    "outputId": "2ad357a4-a93b-4b7c-9009-ca83abe4fa9a"
   },
   "outputs": [
    {
     "name": "stdout",
     "output_type": "stream",
     "text": [
      "elephant\n",
      "rat\n",
      "bat\n",
      "cat\n",
      "a\n"
     ]
    }
   ],
   "source": [
    "x= ['cat', 'bat', 'rat', 'elephant']\n",
    "print(x[-1])\n",
    "print(x[-2])\n",
    "print(x[-3])\n",
    "print(x[-4])\n",
    "print(x[-4][1])\n",
    "# print(x[-10]) # IndexError: list index out of range\n",
    "# print(x[2.0]) # TypeError: list indices must be integers or slices"
   ]
  },
  {
   "cell_type": "code",
   "execution_count": 8,
   "id": "brmbPUnd3LAB",
   "metadata": {
    "colab": {
     "base_uri": "https://localhost:8080/"
    },
    "executionInfo": {
     "elapsed": 537,
     "status": "ok",
     "timestamp": 1727278945841,
     "user": {
      "displayName": "Kapil Gupta",
      "userId": "18028080270304763887"
     },
     "user_tz": -330
    },
    "id": "brmbPUnd3LAB",
    "outputId": "54975a3e-f939-4ca8-9623-f1889915d4d4"
   },
   "outputs": [
    {
     "name": "stdout",
     "output_type": "stream",
     "text": [
      "1 [['cat', 'bat'], [10, 20, 30, 40, 50], ['Hello', 'hi', 'bye', 'see you'], ['a', 'b', 'c', 'd']]\n",
      "1.5 30\n",
      "2 see you\n",
      "3 [['cat', 'bat'], ['Hello', 'hi', 'bye', 'see you']]\n",
      "4 [[10, 20, 30, 40, 50], ['a', 'b', 'c', 'd']]\n",
      "5 [['cat', 'bat'], [10, 20, 30, 40, 50], ['Hello', 'hi', 'bye', 'see you'], ['a', 'b', 'c', 'd']]\n",
      "6 [['Hello', 'hi', 'bye', 'see you'], ['a', 'b', 'c', 'd']]\n",
      "7 [['cat', 'bat'], [10, 20, 30, 40, 50], ['Hello', 'hi', 'bye', 'see you']]\n"
     ]
    }
   ],
   "source": [
    "x = [['cat', 'bat'], [10, 20, 30, 40, 50],[\"Hello\", \"hi\", \"bye\", \"see you\"],[\"a\",\"b\",\"c\",\"d\"]]\n",
    "print(\"1\",x)\n",
    "print(\"1.5\", x[1][2])\n",
    "print(\"2\",x[2][3])\n",
    "y = x[::2] #initial index(including):final index(excluding):step size\n",
    "print(\"3\", y)\n",
    "y = x[1:4:2]\n",
    "print(\"4\", y)\n",
    "y = x[:]\n",
    "print(\"5\", y)\n",
    "y = x[2:]\n",
    "print(\"6\", y)\n",
    "y = x[:3]\n",
    "print(\"7\", y)"
   ]
  },
  {
   "cell_type": "markdown",
   "id": "zrGB71Wz2lxh",
   "metadata": {
    "id": "zrGB71Wz2lxh"
   },
   "source": [
    "## Slicing\n",
    "### Default Indexing\n",
    "Initial index 0\n",
    "Final Index last\n",
    "Step size 1\n",
    "In case if you do not specify a particular index, then default value is taken."
   ]
  },
  {
   "cell_type": "code",
   "execution_count": null,
   "id": "Akfwe5J72kdL",
   "metadata": {
    "colab": {
     "base_uri": "https://localhost:8080/"
    },
    "executionInfo": {
     "elapsed": 866,
     "status": "ok",
     "timestamp": 1727306379328,
     "user": {
      "displayName": "Kapil Gupta",
      "userId": "18028080270304763887"
     },
     "user_tz": -330
    },
    "id": "Akfwe5J72kdL",
    "outputId": "4c30adc0-4ae9-4ee2-c7cf-c31edec4299e"
   },
   "outputs": [
    {
     "name": "stdout",
     "output_type": "stream",
     "text": [
      "3 [['cat', 'bat'], ['Hello', 'hi', 'bye', 'see you']]\n",
      "4 [[10, 20, 30, 40, 50], ['a', 'b', 'c', 'd']]\n",
      "5 [['cat', 'bat'], [10, 20, 30, 40, 50], ['Hello', 'hi', 'bye', 'see you'], ['a', 'b', 'c', 'd']]\n",
      "6 [['Hello', 'hi', 'bye', 'see you'], ['a', 'b', 'c', 'd']]\n",
      "7 [['cat', 'bat'], [10, 20, 30, 40, 50], ['Hello', 'hi', 'bye', 'see you']]\n",
      "4 2 5 4 4\n"
     ]
    }
   ],
   "source": [
    "x = [['cat', 'bat'], [10, 20, 30, 40, 50],[\"Hello\", \"hi\", \"bye\", \"see you\"],[\"a\",\"b\",\"c\",\"d\"]]\n",
    "y = x[::2] #initial index(including):final index(excluding):step size\n",
    "print(\"3\", y)\n",
    "y = x[1:4:2]\n",
    "print(\"4\", y)\n",
    "y = x[:]\n",
    "print(\"5\", y)\n",
    "y = x[2:]\n",
    "print(\"6\", y)\n",
    "y = x[:3]\n",
    "print(\"7\", y)\n",
    "\n",
    "#length/number of items in the list\n",
    "print(len(x), len(x[0]), len(x[1]), len(x[2]), len(x[3]))"
   ]
  },
  {
   "cell_type": "markdown",
   "id": "yTCH4KwzfGLt",
   "metadata": {
    "id": "yTCH4KwzfGLt"
   },
   "source": [
    "## Modifying Lists"
   ]
  },
  {
   "cell_type": "code",
   "execution_count": 9,
   "id": "fe7acc43-1b0c-49d0-b2dc-38c8b6ed432c",
   "metadata": {
    "colab": {
     "base_uri": "https://localhost:8080/"
    },
    "executionInfo": {
     "elapsed": 554,
     "status": "ok",
     "timestamp": 1727306969256,
     "user": {
      "displayName": "Kapil Gupta",
      "userId": "18028080270304763887"
     },
     "user_tz": -330
    },
    "id": "fe7acc43-1b0c-49d0-b2dc-38c8b6ed432c",
    "outputId": "81ab976e-632b-4703-ab87-fe870ba80dd2"
   },
   "outputs": [
    {
     "name": "stdout",
     "output_type": "stream",
     "text": [
      "['cat', 'aardvark', 'rat', 'elephant']\n",
      "['cat', 'aardvark', 'aardvark', 'elephant']\n",
      "['cat', 'aardvark', 'aardvark', 12345]\n",
      "['cat', 'x', 'y', 12345]\n",
      "[1, 2, 3, 'a', 'b', 'c']\n",
      "[1, 2, 3, 1, 2, 3, 1, 2, 3]\n",
      "[2, 3, 1, 2, 3, 1, 2, 3]\n"
     ]
    }
   ],
   "source": [
    "spam = ['cat', 'bat', 'rat', 'elephant']\n",
    "spam[1] = 'aardvark'\n",
    "print(spam)\n",
    "\n",
    "spam[2] = spam[1] # use of index to generate l- and r-values\n",
    "print(spam)\n",
    "\n",
    "spam[-1] = 12345  # negative indices count from the end\n",
    "print(spam)\n",
    "\n",
    "spam[1:3] = ['x', 'y'] #updating multiple indexed at once\n",
    "print(spam)\n",
    "\n",
    "#operators\n",
    "spam = [1, 2, 3]\n",
    "spam = spam + ['a', 'b', 'c']\n",
    "print(spam)\n",
    "\n",
    "spam = [1, 2, 3]\n",
    "spam = spam*3\n",
    "print(spam)\n",
    "\n",
    "#deleting an item\n",
    "del spam[0]\n",
    "print(spam)"
   ]
  },
  {
   "cell_type": "code",
   "execution_count": 10,
   "id": "aV9qq_kKjVu7",
   "metadata": {
    "colab": {
     "base_uri": "https://localhost:8080/"
    },
    "executionInfo": {
     "elapsed": 679971,
     "status": "ok",
     "timestamp": 1727317664121,
     "user": {
      "displayName": "Kapil Gupta",
      "userId": "18028080270304763887"
     },
     "user_tz": -330
    },
    "id": "aV9qq_kKjVu7",
    "outputId": "b58036fc-a001-4c5d-aa0d-0f5e0a9c0fcb"
   },
   "outputs": [
    {
     "name": "stdout",
     "output_type": "stream",
     "text": [
      "['Prashant']\n",
      "Prashant\n"
     ]
    }
   ],
   "source": [
    "# in & not in operators\n",
    "newGuest = []\n",
    "while(True):\n",
    "  x = input(\"Enter the name of Guest \")\n",
    "  if x==\"\":\n",
    "    break\n",
    "  if x not in newGuest:\n",
    "    newGuest += [x]\n",
    "print(newGuest)\n",
    "for i in newGuest:\n",
    "    print(i)"
   ]
  },
  {
   "cell_type": "markdown",
   "id": "l9g2l_LakvRd",
   "metadata": {
    "id": "l9g2l_LakvRd"
   },
   "source": [
    "## Multiple Assignments\n",
    "technically called *tuple unpacking*"
   ]
  },
  {
   "cell_type": "code",
   "execution_count": 11,
   "id": "1ymbKL0XkzqS",
   "metadata": {
    "colab": {
     "base_uri": "https://localhost:8080/"
    },
    "executionInfo": {
     "elapsed": 704,
     "status": "ok",
     "timestamp": 1727395971683,
     "user": {
      "displayName": "Kapil Gupta",
      "userId": "18028080270304763887"
     },
     "user_tz": -330
    },
    "id": "1ymbKL0XkzqS",
    "outputId": "6e5f0a78-4571-4941-884b-f3531cbbe101"
   },
   "outputs": [
    {
     "name": "stdout",
     "output_type": "stream",
     "text": [
      "fat gray loud\n"
     ]
    }
   ],
   "source": [
    "cat = ['fat', 'gray', 'loud']\n",
    "size, color, disposition = cat\n",
    "print(size, color, disposition)\n",
    "#number of variables and the length of the list must be exactly equal\n",
    "cat = ['fat', 'gray', 'loud']\n",
    "# size, color, disposition, name = cat #ValueError: not enough values to unpack (expected 4, got 3)"
   ]
  },
  {
   "cell_type": "code",
   "execution_count": null,
   "id": "TxYDCCLAlp5S",
   "metadata": {
    "colab": {
     "base_uri": "https://localhost:8080/"
    },
    "executionInfo": {
     "elapsed": 617,
     "status": "ok",
     "timestamp": 1727316330857,
     "user": {
      "displayName": "Kapil Gupta",
      "userId": "18028080270304763887"
     },
     "user_tz": -330
    },
    "id": "TxYDCCLAlp5S",
    "outputId": "eb7402fb-2c8a-4962-f2f7-4ac1ca8e1f71"
   },
   "outputs": [
    {
     "name": "stdout",
     "output_type": "stream",
     "text": [
      "Index 0 in supplies is: pens\n",
      "Index 1 in supplies is: staplers\n",
      "Index 2 in supplies is: flame-throwers\n",
      "Index 3 in supplies is: binders\n"
     ]
    }
   ],
   "source": [
    "# enumerate() will return two values: the index of the item in the list\n",
    "# and the item in the list itself.\n",
    "supplies = ['pens', 'staplers', 'flame-throwers', 'binders']\n",
    "for index, item in enumerate(supplies):\n",
    "    print('Index ' + str(index) + ' in supplies is: ' + item)"
   ]
  },
  {
   "cell_type": "markdown",
   "id": "GhAQWGHrFJiu",
   "metadata": {
    "id": "GhAQWGHrFJiu"
   },
   "source": [
    "## random.choice() and random.shuffle()"
   ]
  },
  {
   "cell_type": "code",
   "execution_count": 19,
   "id": "sENAoExVFI2l",
   "metadata": {
    "colab": {
     "base_uri": "https://localhost:8080/"
    },
    "executionInfo": {
     "elapsed": 522,
     "status": "ok",
     "timestamp": 1727316850413,
     "user": {
      "displayName": "Kapil Gupta",
      "userId": "18028080270304763887"
     },
     "user_tz": -330
    },
    "id": "sENAoExVFI2l",
    "outputId": "7b22e912-f3e7-4ff3-dab6-7c4a90474a82"
   },
   "outputs": [
    {
     "name": "stdout",
     "output_type": "stream",
     "text": [
      "Moose\n",
      "Cat\n",
      "Moose\n",
      "Cat\n"
     ]
    }
   ],
   "source": [
    "import random\n",
    "pets = ['Dog', 'Cat', 'Moose']\n",
    "print(random.choice(pets))\n",
    "print(random.choice(pets))\n",
    "print(random.choice(pets))\n",
    "\n",
    "print(pets[random.randint(0,len(pets)-1)]) # random.randint(start, stop), both inputs are required"
   ]
  },
  {
   "cell_type": "code",
   "execution_count": 23,
   "id": "hJrEuRJtFflF",
   "metadata": {
    "colab": {
     "base_uri": "https://localhost:8080/"
    },
    "executionInfo": {
     "elapsed": 4,
     "status": "ok",
     "timestamp": 1727316503864,
     "user": {
      "displayName": "Kapil Gupta",
      "userId": "18028080270304763887"
     },
     "user_tz": -330
    },
    "id": "hJrEuRJtFflF",
    "outputId": "7e701ffe-0253-4614-842e-1713dd0fe0a8"
   },
   "outputs": [
    {
     "name": "stdout",
     "output_type": "stream",
     "text": [
      "['Bob', 'Alice', 'David', 'Carol']\n"
     ]
    }
   ],
   "source": [
    "import random\n",
    "people = ['Alice', 'Bob', 'Carol', 'David']\n",
    "random.shuffle(people)\n",
    "print(people)"
   ]
  },
  {
   "cell_type": "code",
   "execution_count": null,
   "id": "MZWqo-7lKsck",
   "metadata": {
    "colab": {
     "base_uri": "https://localhost:8080/"
    },
    "executionInfo": {
     "elapsed": 454,
     "status": "ok",
     "timestamp": 1727318613115,
     "user": {
      "displayName": "Kapil Gupta",
      "userId": "18028080270304763887"
     },
     "user_tz": -330
    },
    "id": "MZWqo-7lKsck",
    "outputId": "0d1b8ecc-b560-404a-af64-ff016e086059"
   },
   "outputs": [
    {
     "name": "stdout",
     "output_type": "stream",
     "text": [
      "0\n",
      "3\n",
      "1\n",
      "None\n",
      "['cat', 'dog', 'bat', 'moose']\n",
      "None\n",
      "['cat', 'chicken', 'dog', 'bat', 'moose']\n",
      "None\n",
      "['cat', 'chicken', 'dog', 'moose']\n"
     ]
    }
   ],
   "source": [
    "# getting index of a value in list\n",
    "spam = ['hello', 'hi', 'howdy', 'heyas']\n",
    "print(spam.index('hello'))\n",
    "print(spam.index('heyas'))\n",
    "# print(spam.index('ho howdy')) # ValueError: 'ho howdy' is not in list\n",
    "# duplicates of the value in the list, the index of its first appearance is returned\n",
    "spam = ['Zophie', 'Pooka', 'Fat-tail', 'Pooka']\n",
    "print(spam.index('Pooka'))\n",
    "\n",
    "#append method\n",
    "spam = ['cat', 'dog', 'bat']\n",
    "print(spam.append('moose'))\n",
    "print(spam)\n",
    "\n",
    "#insert method\n",
    "print(spam.insert(1, 'chicken'))\n",
    "print(spam)\n",
    "\n",
    "#remove method\n",
    "print(spam.remove('bat'))\n",
    "print(spam)\n",
    "\n",
    "# index method does not modify the list but returns the value of index of the item set to it\n",
    "# while append, insert and remove methods changes the list in place but returns 'None'\n"
   ]
  },
  {
   "cell_type": "code",
   "execution_count": 4,
   "id": "PDHL9Sb5N1nZ",
   "metadata": {
    "colab": {
     "base_uri": "https://localhost:8080/"
    },
    "executionInfo": {
     "elapsed": 630,
     "status": "ok",
     "timestamp": 1727355096922,
     "user": {
      "displayName": "Kapil Gupta",
      "userId": "18028080270304763887"
     },
     "user_tz": -330
    },
    "id": "PDHL9Sb5N1nZ",
    "outputId": "a87c8894-e519-43fb-f73f-3298251533f1"
   },
   "outputs": [
    {
     "name": "stdout",
     "output_type": "stream",
     "text": [
      "None\n",
      "['ants', 'badgers', 'cats', 'dogs', 'elephants']\n",
      "None\n",
      "['ants', 'badgers', 'cats', 'dogs', 'elephants']\n",
      "None\n",
      "['Alice', 'Bob', 'apple', 'bat', 'cat']\n",
      "None\n",
      "['Alice', 'apple', 'bat', 'Bob', 'cat']\n",
      "['cat', 'bat', 'apple', 'Bob', 'Alice']\n"
     ]
    }
   ],
   "source": [
    "# attempting to remove, value that does not exist, can generate an error\n",
    "spam = ['cat', 'bat', 'rat', 'elephant']\n",
    "#spam.remove('chicken') #ValueError: list.remove(x): x not in list\n",
    "\n",
    "#sorting inplace\n",
    "spam = ['ants', 'cats', 'dogs', 'badgers', 'elephants']\n",
    "print(spam.sort()) #also returns 'None', sort() uses “ASCIIbetical order”\n",
    "print(spam)\n",
    "\n",
    "#TypeError: '<' not supported between instances of 'str' and 'int'\n",
    "# spam = [1, 3, 2, 4, 'Alice', 'Bob','cat','bat','apple']\n",
    "print(spam.sort())\n",
    "print(spam)\n",
    "\n",
    "spam = ['Alice', 'Bob','cat','bat','apple']\n",
    "print(spam.sort()) #also returns 'None', sort() uses “ASCIIbetical order”\n",
    "print(spam)\n",
    "\n",
    "print(spam.sort(key=str.lower))#sorts in alphabetical order, assuming all things in lower case\n",
    "print(spam)\n",
    "\n",
    "spam.sort(reverse=True)\n",
    "print(spam)"
   ]
  },
  {
   "cell_type": "markdown",
   "id": "YZ7QVOUF4wGu",
   "metadata": {
    "id": "YZ7QVOUF4wGu"
   },
   "source": [
    "## Sequence Data Types\n",
    "    1. Lists\n",
    "    2. Strings\n",
    "    3. Range\n",
    "    4. Tuples\n",
    "So most of the things that are applicable to lists are also applicable to other sequence data types like- indexing, slicing, looping through len() etc."
   ]
  },
  {
   "cell_type": "code",
   "execution_count": null,
   "id": "o7dTcciX4vsG",
   "metadata": {
    "id": "o7dTcciX4vsG"
   },
   "outputs": [],
   "source": []
  },
  {
   "cell_type": "markdown",
   "id": "3Fx_DtTy0bfZ",
   "metadata": {
    "id": "3Fx_DtTy0bfZ"
   },
   "source": [
    "# Strings\n",
    "## Slicing"
   ]
  },
  {
   "cell_type": "code",
   "execution_count": 4,
   "id": "ltgAI44lxya2",
   "metadata": {
    "colab": {
     "base_uri": "https://localhost:8080/"
    },
    "executionInfo": {
     "elapsed": 15,
     "status": "ok",
     "timestamp": 1727394295796,
     "user": {
      "displayName": "Kapil Gupta",
      "userId": "18028080270304763887"
     },
     "user_tz": -330
    },
    "id": "ltgAI44lxya2",
    "outputId": "31e43d21-3cec-4206-e1ce-d7396eac4e5f"
   },
   "outputs": [
    {
     "name": "stdout",
     "output_type": "stream",
     "text": [
      "HloWrd\n",
      "H\n",
      "e\n",
      "l\n",
      "l\n",
      "o\n",
      " \n",
      "W\n",
      "o\n",
      "r\n",
      "l\n",
      "d\n",
      "True True\n",
      "HloWrd\n",
      "[9, 6, 3]\n"
     ]
    }
   ],
   "source": [
    "x = \"Hello World\"\n",
    "y = x[0::2]\n",
    "print(y)\n",
    "for i in x:\n",
    "  print(i)\n",
    "\n",
    "print(\"o \" in x, \"o W\" in x)\n",
    "\n",
    "y = x[0::2]\n",
    "print(y)\n",
    "\n",
    "x = [i for i in range(10)]\n",
    "y = x[-1:0:-3]\n",
    "print(y)"
   ]
  },
  {
   "cell_type": "markdown",
   "id": "4gXNRoqWuZnk",
   "metadata": {
    "id": "4gXNRoqWuZnk"
   },
   "source": [
    "## Mutable Data Types\n",
    "Modifiable values\n",
    "   1. Add\n",
    "   2. Remove\n",
    "   3. Change\n",
    "  > example lists\n",
    "\n",
    "## Immutable Data Types\n",
    "No modification allowed\n",
    "   > example strings, the change generates error"
   ]
  },
  {
   "cell_type": "code",
   "execution_count": 5,
   "id": "tp24lLD_uYBy",
   "metadata": {
    "colab": {
     "base_uri": "https://localhost:8080/",
     "height": 159
    },
    "executionInfo": {
     "elapsed": 1051,
     "status": "error",
     "timestamp": 1727394740535,
     "user": {
      "displayName": "Kapil Gupta",
      "userId": "18028080270304763887"
     },
     "user_tz": -330
    },
    "id": "tp24lLD_uYBy",
    "outputId": "fa09e5f5-f3a9-4d39-8b8d-1bdc595aed8f"
   },
   "outputs": [
    {
     "ename": "TypeError",
     "evalue": "'str' object does not support item assignment",
     "output_type": "error",
     "traceback": [
      "\u001b[0;31m---------------------------------------------------------------------------\u001b[0m",
      "\u001b[0;31mTypeError\u001b[0m                                 Traceback (most recent call last)",
      "\u001b[0;32m<ipython-input-5-163d181d3e99>\u001b[0m in \u001b[0;36m<cell line: 2>\u001b[0;34m()\u001b[0m\n\u001b[1;32m      1\u001b[0m \u001b[0mname\u001b[0m \u001b[0;34m=\u001b[0m \u001b[0;34m'Zophie a cat'\u001b[0m\u001b[0;34m\u001b[0m\u001b[0;34m\u001b[0m\u001b[0m\n\u001b[0;32m----> 2\u001b[0;31m \u001b[0mname\u001b[0m\u001b[0;34m[\u001b[0m\u001b[0;36m7\u001b[0m\u001b[0;34m]\u001b[0m \u001b[0;34m=\u001b[0m \u001b[0;34m'the'\u001b[0m \u001b[0;31m# TypeError: 'str' object does not support item assignment\u001b[0m\u001b[0;34m\u001b[0m\u001b[0;34m\u001b[0m\u001b[0m\n\u001b[0m",
      "\u001b[0;31mTypeError\u001b[0m: 'str' object does not support item assignment"
     ]
    }
   ],
   "source": [
    "name = 'Zophie a cat'\n",
    "# name[7] = 'the' # TypeError: 'str' object does not support item assignment"
   ]
  },
  {
   "cell_type": "code",
   "execution_count": 7,
   "id": "wy_soocwx0Mv",
   "metadata": {
    "colab": {
     "base_uri": "https://localhost:8080/"
    },
    "executionInfo": {
     "elapsed": 753,
     "status": "ok",
     "timestamp": 1727394998257,
     "user": {
      "displayName": "Kapil Gupta",
      "userId": "18028080270304763887"
     },
     "user_tz": -330
    },
    "id": "wy_soocwx0Mv",
    "outputId": "6c1bf5a2-2e18-4d9e-b628-fd668a488096"
   },
   "outputs": [
    {
     "name": "stdout",
     "output_type": "stream",
     "text": [
      "132897476663040 [1, 2, 3]\n",
      "132897476663040 [1, 4, 3]\n",
      "132897476512256 [4, 5, 6]\n"
     ]
    }
   ],
   "source": [
    "lst = [1,2,3]\n",
    "print(id(lst), lst)\n",
    "lst[1] = 4\n",
    "print(id(lst),lst)\n",
    "lst = [4,5,6] # the re assignment entirely changes the variable\n",
    "print(id(lst),lst)"
   ]
  },
  {
   "cell_type": "markdown",
   "id": "_ZTnTNCTyAJK",
   "metadata": {
    "id": "_ZTnTNCTyAJK"
   },
   "source": [
    "# Tuples"
   ]
  },
  {
   "cell_type": "code",
   "execution_count": 11,
   "id": "J_gpEZgYyqmA",
   "metadata": {
    "colab": {
     "base_uri": "https://localhost:8080/"
    },
    "executionInfo": {
     "elapsed": 685,
     "status": "ok",
     "timestamp": 1727395532329,
     "user": {
      "displayName": "Kapil Gupta",
      "userId": "18028080270304763887"
     },
     "user_tz": -330
    },
    "id": "J_gpEZgYyqmA",
    "outputId": "271e5c40-7db2-4dfb-81e8-3c2134ac30d8"
   },
   "outputs": [
    {
     "name": "stdout",
     "output_type": "stream",
     "text": [
      "(1, 2, 3)\n",
      "('cat', 'bat', 'rat', 'elephant')\n",
      "('hello', 3.1415, True, None, 42)\n",
      "None\n",
      "(3.1415, True)\n",
      "(3.1415, None)\n"
     ]
    }
   ],
   "source": [
    "# All Reading through tuples is same as that of list\n",
    "tp = (1,2,3)\n",
    "print(tp)\n",
    "tp = ('cat', 'bat', 'rat', 'elephant')\n",
    "print(tp)\n",
    "tp = ('hello', 3.1415, True, None, 42)\n",
    "print(tp)\n",
    "\n",
    "print(tp[3])\n",
    "print(tp[1:3])\n",
    "print(tp[1::2])\n"
   ]
  },
  {
   "cell_type": "code",
   "execution_count": 10,
   "id": "FybCnESrwvwf",
   "metadata": {
    "colab": {
     "base_uri": "https://localhost:8080/"
    },
    "executionInfo": {
     "elapsed": 704,
     "status": "ok",
     "timestamp": 1727395405810,
     "user": {
      "displayName": "Kapil Gupta",
      "userId": "18028080270304763887"
     },
     "user_tz": -330
    },
    "id": "FybCnESrwvwf",
    "outputId": "93282d76-e622-4178-b3b9-e8801899f4fa"
   },
   "outputs": [
    {
     "name": "stdout",
     "output_type": "stream",
     "text": [
      "132897478044032 (1, 2, 3)\n",
      "132897478044032 (1, 2, 3)\n",
      "132897478178368 (4, 5, 6)\n"
     ]
    }
   ],
   "source": [
    "tp = (1,2,3)\n",
    "print(id(tp), tp)\n",
    "# tp[1] = 4 #TypeError: 'tuple' object does not support item assignment\n",
    "print(id(tp),tp)\n",
    "tp = (4,5,6) # the re assignment entirely changes the variable\n",
    "print(id(tp),tp)"
   ]
  },
  {
   "cell_type": "markdown",
   "id": "HBV4oQCb0DcM",
   "metadata": {
    "id": "HBV4oQCb0DcM"
   },
   "source": [
    "To differentiate between expression brackets and tuples with single item use \",\""
   ]
  },
  {
   "cell_type": "code",
   "execution_count": 15,
   "id": "D9bTECkEyI46",
   "metadata": {
    "colab": {
     "base_uri": "https://localhost:8080/"
    },
    "executionInfo": {
     "elapsed": 726,
     "status": "ok",
     "timestamp": 1727396111858,
     "user": {
      "displayName": "Kapil Gupta",
      "userId": "18028080270304763887"
     },
     "user_tz": -330
    },
    "id": "D9bTECkEyI46",
    "outputId": "796cfb7e-0168-412e-eb19-2b6cbf71e106"
   },
   "outputs": [
    {
     "name": "stdout",
     "output_type": "stream",
     "text": [
      "<class 'str'>\n",
      "<class 'tuple'>\n"
     ]
    }
   ],
   "source": [
    "print(type(('hello')))\n",
    "print(type(('hello',)))"
   ]
  },
  {
   "cell_type": "markdown",
   "id": "I1R222jl7vLD",
   "metadata": {
    "id": "I1R222jl7vLD"
   },
   "source": [
    "# Conversion between types"
   ]
  },
  {
   "cell_type": "code",
   "execution_count": 16,
   "id": "btivoO8-7usV",
   "metadata": {
    "colab": {
     "base_uri": "https://localhost:8080/"
    },
    "executionInfo": {
     "elapsed": 1538,
     "status": "ok",
     "timestamp": 1727397888401,
     "user": {
      "displayName": "Kapil Gupta",
      "userId": "18028080270304763887"
     },
     "user_tz": -330
    },
    "id": "btivoO8-7usV",
    "outputId": "ecd01589-2f43-4c8e-d8c7-dc971019ad32"
   },
   "outputs": [
    {
     "name": "stdout",
     "output_type": "stream",
     "text": [
      "('cat', 'dog', 5)\n",
      "['cat', 'dog', 5]\n",
      "['h', 'e', 'l', 'l', 'o']\n",
      "('h', 'e', 'l', 'l', 'o')\n"
     ]
    }
   ],
   "source": [
    "print(tuple(['cat', 'dog', 5]))\n",
    "print(list(('cat', 'dog', 5)))\n",
    "print(list('hello'))\n",
    "print(tuple('hello'))"
   ]
  },
  {
   "cell_type": "markdown",
   "id": "3trDdDr38SnV",
   "metadata": {
    "id": "3trDdDr38SnV"
   },
   "source": [
    "References"
   ]
  },
  {
   "cell_type": "code",
   "execution_count": 18,
   "id": "z_edjuSv1IQd",
   "metadata": {
    "colab": {
     "base_uri": "https://localhost:8080/"
    },
    "executionInfo": {
     "elapsed": 831,
     "status": "ok",
     "timestamp": 1727398072730,
     "user": {
      "displayName": "Kapil Gupta",
      "userId": "18028080270304763887"
     },
     "user_tz": -330
    },
    "id": "z_edjuSv1IQd",
    "outputId": "9c90fe70-51ef-427f-ff21-9e15a5c5382f"
   },
   "outputs": [
    {
     "name": "stdout",
     "output_type": "stream",
     "text": [
      "True 132898519975440 132898519975440\n",
      "False 132898519975440 132898519977296\n"
     ]
    }
   ],
   "source": [
    "spam=42\n",
    "cheese=spam\n",
    "print(spam is cheese, id(spam), id(cheese))\n",
    "cheese=100\n",
    "print(spam is cheese, id(spam), id(cheese))\n",
    "# even int and almost all single valued datatypes are immutable,\n",
    "# when you are assigning them, previous object is thrown and new object is made\n",
    "# and the reference to the new object is given to the handle"
   ]
  },
  {
   "cell_type": "code",
   "execution_count": 20,
   "id": "Dwebd_Hq8eS0",
   "metadata": {
    "colab": {
     "base_uri": "https://localhost:8080/"
    },
    "executionInfo": {
     "elapsed": 681,
     "status": "ok",
     "timestamp": 1727398440108,
     "user": {
      "displayName": "Kapil Gupta",
      "userId": "18028080270304763887"
     },
     "user_tz": -330
    },
    "id": "Dwebd_Hq8eS0",
    "outputId": "49fb1ab8-7fb8-4500-8ce1-42dab410e402"
   },
   "outputs": [
    {
     "name": "stdout",
     "output_type": "stream",
     "text": [
      "[0, 'Hello!', 2, 3, 4, 5]\n",
      "True\n"
     ]
    }
   ],
   "source": [
    "spam = [0, 1, 2, 3, 4, 5]\n",
    "cheese = spam\n",
    "cheese[1] = 'Hello!'\n",
    "print(spam)\n",
    "print(cheese is spam)"
   ]
  },
  {
   "cell_type": "code",
   "execution_count": 23,
   "id": "FSEGjWBA9_5m",
   "metadata": {
    "colab": {
     "base_uri": "https://localhost:8080/"
    },
    "executionInfo": {
     "elapsed": 15,
     "status": "ok",
     "timestamp": 1727401100185,
     "user": {
      "displayName": "Kapil Gupta",
      "userId": "18028080270304763887"
     },
     "user_tz": -330
    },
    "id": "FSEGjWBA9_5m",
    "outputId": "60ad976b-3bca-4661-8d04-b0064120445f"
   },
   "outputs": [
    {
     "name": "stdout",
     "output_type": "stream",
     "text": [
      "132898519974160\n",
      "132898519975024 132898519975440 132897234909120 [1, 42, 3]\n"
     ]
    }
   ],
   "source": [
    "a = 42\n",
    "s = [1,2,3]\n",
    "print(id(s[1]))\n",
    "s[1] = a\n",
    "a = 29\n",
    "\n",
    "print(id(a),id(s[1]),id(s),s)"
   ]
  },
  {
   "cell_type": "code",
   "execution_count": 26,
   "id": "U9Q291SJ-z2I",
   "metadata": {
    "colab": {
     "base_uri": "https://localhost:8080/"
    },
    "executionInfo": {
     "elapsed": 828,
     "status": "ok",
     "timestamp": 1727401374412,
     "user": {
      "displayName": "Kapil Gupta",
      "userId": "18028080270304763887"
     },
     "user_tz": -330
    },
    "id": "U9Q291SJ-z2I",
    "outputId": "754de75d-75ec-47e3-a074-448d575e064d"
   },
   "outputs": [
    {
     "name": "stdout",
     "output_type": "stream",
     "text": [
      "132897476705856 ['cat', 'dog']\n",
      "132897476705856 ['cat', 'dog', 'moose']\n",
      "132897476705856 ['cat', 'dog', 'moose']\n",
      "True\n"
     ]
    }
   ],
   "source": [
    "eggs = ['cat', 'dog']\n",
    "cheese = eggs\n",
    "print(id(eggs), eggs)\n",
    "eggs.append('moose') # changes the list in place\n",
    "print(id(eggs),eggs)\n",
    "print(id(cheese),cheese) # they are refering  to the same thing\n",
    "print(cheese is eggs)"
   ]
  },
  {
   "cell_type": "markdown",
   "id": "-hBTIxn6JfJ7",
   "metadata": {
    "id": "-hBTIxn6JfJ7"
   },
   "source": [
    "Python’s automatic garbage collector deletes any values not being referred to by any variables to free up memory. You don’t need to worry about how the garbage collector works."
   ]
  },
  {
   "cell_type": "markdown",
   "id": "5Zlt5xQdK2QE",
   "metadata": {
    "id": "5Zlt5xQdK2QE"
   },
   "source": [
    "# Parameter Passing"
   ]
  },
  {
   "cell_type": "code",
   "execution_count": 27,
   "id": "7jKi8mb2Iz5_",
   "metadata": {
    "colab": {
     "base_uri": "https://localhost:8080/"
    },
    "executionInfo": {
     "elapsed": 1601,
     "status": "ok",
     "timestamp": 1727401770313,
     "user": {
      "displayName": "Kapil Gupta",
      "userId": "18028080270304763887"
     },
     "user_tz": -330
    },
    "id": "7jKi8mb2Iz5_",
    "outputId": "8c6de22f-4a86-4fda-9e12-6a3692bad2ab"
   },
   "outputs": [
    {
     "name": "stdout",
     "output_type": "stream",
     "text": [
      "[1, 2, 3, 'Hello']\n"
     ]
    }
   ],
   "source": [
    "def eggs(someParameter): # most of the parameters are passed by reference\n",
    "    someParameter.append('Hello')\n",
    "\n",
    "spam = [1, 2, 3]\n",
    "eggs(spam)\n",
    "print(spam)"
   ]
  },
  {
   "cell_type": "code",
   "execution_count": 29,
   "id": "MYBsZQz4KzM8",
   "metadata": {
    "colab": {
     "base_uri": "https://localhost:8080/"
    },
    "executionInfo": {
     "elapsed": 728,
     "status": "ok",
     "timestamp": 1727402696820,
     "user": {
      "displayName": "Kapil Gupta",
      "userId": "18028080270304763887"
     },
     "user_tz": -330
    },
    "id": "MYBsZQz4KzM8",
    "outputId": "4436dab7-9995-4a2d-86a1-4a5b96170d2d"
   },
   "outputs": [
    {
     "name": "stdout",
     "output_type": "stream",
     "text": [
      "42\n"
     ]
    }
   ],
   "source": [
    "def eggs(x):\n",
    "  x=96 # basic data type like int, float, complex, string are immutable and behave in this way\n",
    "spam=42\n",
    "eggs(spam)\n",
    "print(spam)"
   ]
  },
  {
   "cell_type": "markdown",
   "id": "hmSuSSVoOqXS",
   "metadata": {
    "id": "hmSuSSVoOqXS"
   },
   "source": [
    "# copy() and deepcopy()"
   ]
  },
  {
   "cell_type": "code",
   "execution_count": 31,
   "id": "_WLjIpIYLVLZ",
   "metadata": {
    "colab": {
     "base_uri": "https://localhost:8080/"
    },
    "executionInfo": {
     "elapsed": 736,
     "status": "ok",
     "timestamp": 1727402919541,
     "user": {
      "displayName": "Kapil Gupta",
      "userId": "18028080270304763887"
     },
     "user_tz": -330
    },
    "id": "_WLjIpIYLVLZ",
    "outputId": "00dd4c18-a258-4929-b250-1f8a189b7163"
   },
   "outputs": [
    {
     "name": "stdout",
     "output_type": "stream",
     "text": [
      "132897233329344 ['A', 'B', 'C', 'D']\n",
      "132897233330304 ['A', 42, 'C', 'D']\n"
     ]
    }
   ],
   "source": [
    "# Sometimes you dont want your method to change your original variable\n",
    "import copy\n",
    "spam = ['A', 'B', 'C', 'D']\n",
    "cheese = copy.copy(spam)\n",
    "cheese[1] = 42\n",
    "print(id(spam),spam)\n",
    "print(id(cheese),cheese)\n"
   ]
  },
  {
   "cell_type": "code",
   "execution_count": 33,
   "id": "tmSwSQu5O_CD",
   "metadata": {
    "colab": {
     "base_uri": "https://localhost:8080/"
    },
    "executionInfo": {
     "elapsed": 649,
     "status": "ok",
     "timestamp": 1727403088698,
     "user": {
      "displayName": "Kapil Gupta",
      "userId": "18028080270304763887"
     },
     "user_tz": -330
    },
    "id": "tmSwSQu5O_CD",
    "outputId": "e01351a1-f6e1-434a-a58f-c394a2ed3c5d"
   },
   "outputs": [
    {
     "name": "stdout",
     "output_type": "stream",
     "text": [
      "132897233648832 [['A', 'B', 'C', 'D'], [1, 2, 42, 4], [5, 6, 7, 8]]\n",
      "132897233639680 [['A', 'B', 'C', 'D'], [1, 2, 42, 4], [5, 6, 7, 8]]\n",
      "132897233648832 [['A', 'B', 'C', 'D'], [1, 2, 42, 4], [5, 6, 7, 8]]\n",
      "132897233649536 [['A', 'B', 'C', 'D'], [1, 2, 100, 4], [5, 6, 7, 8]]\n"
     ]
    }
   ],
   "source": [
    "import copy\n",
    "spam = [['A', 'B', 'C', 'D'],[1,2,3,4],[5,6,7,8]]\n",
    "cheese = copy.copy(spam)\n",
    "cheese[1][2] = 42\n",
    "print(id(spam),spam)\n",
    "print(id(cheese),cheese)\n",
    "# instead make a deepcopy\n",
    "geese = copy.deepcopy(spam)\n",
    "geese[1][2] = 100\n",
    "print(id(spam),spam)\n",
    "print(id(geese),geese)"
   ]
  },
  {
   "cell_type": "markdown",
   "id": "nZN2-IIjXr42",
   "metadata": {
    "id": "nZN2-IIjXr42"
   },
   "source": [
    "## Homework\n",
    ">spam = ['apples', 'bananas', 'tofu', 'cats']\n",
    ">\n",
    ">Write a function that takes a list value as an argument and returns a string with all the items separated by a comma and a space, with and inserted before the last item. For example, passing the previous spam list to the function would return 'apples, bananas, tofu, and cats'. But your function should be able to work with any list value passed to it. Be sure to test the case where an empty list [] is passed to your function.\n",
    "\n",
    "> Make random flips of 100 coins and see if there is a streak of six heads or tails in a row.\n",
    "> Check again if you repeat this 10000 times, how many times you get the streak\n",
    "> Use  \n",
    "> import random\n",
    "> random.randint(0,1)"
   ]
  },
  {
   "cell_type": "code",
   "execution_count": null,
   "id": "ek2nbkasPomL",
   "metadata": {
    "id": "ek2nbkasPomL"
   },
   "outputs": [],
   "source": []
  }
 ],
 "metadata": {
  "colab": {
   "provenance": []
  },
  "kernelspec": {
   "display_name": "Python 3",
   "language": "python",
   "name": "python3"
  },
  "language_info": {
   "codemirror_mode": {
    "name": "ipython",
    "version": 3
   },
   "file_extension": ".py",
   "mimetype": "text/x-python",
   "name": "python",
   "nbconvert_exporter": "python",
   "pygments_lexer": "ipython3",
   "version": "3.12.4"
  }
 },
 "nbformat": 4,
 "nbformat_minor": 5
}
